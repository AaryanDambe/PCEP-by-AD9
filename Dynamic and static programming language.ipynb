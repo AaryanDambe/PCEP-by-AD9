{
 "cells": [
  {
   "cell_type": "markdown",
   "id": "4d793c1e",
   "metadata": {},
   "source": [
    "#### Python is a dynamic programming language\n",
    "    There are 2 types of programming languages\n",
    "    \n",
    "    1. Static Programming Language\n",
    "        We have to specify the data type of the data assigned to a variable\n",
    "        \n",
    "    2. Dynamic Programming Language\n",
    "        We don't have to specify the data type of the data assigned to a variable\n"
   ]
  },
  {
   "cell_type": "code",
   "execution_count": null,
   "id": "6faa31b8",
   "metadata": {},
   "outputs": [],
   "source": [
    "# C Programming\n",
    "\n",
    "int x = 3\n",
    "float y = 3.5\n",
    "string greeting = 'Hello'\n",
    "char z = 'a'\n",
    "\n",
    "# Python\n",
    "x = 3\n",
    "y = 3.5\n",
    "greeting = 'Hello'\n",
    "z = 'a'\n"
   ]
  }
 ],
 "metadata": {
  "kernelspec": {
   "display_name": "Python 3",
   "language": "python",
   "name": "python3"
  },
  "language_info": {
   "codemirror_mode": {
    "name": "ipython",
    "version": 3
   },
   "file_extension": ".py",
   "mimetype": "text/x-python",
   "name": "python",
   "nbconvert_exporter": "python",
   "pygments_lexer": "ipython3",
   "version": "3.8.3"
  }
 },
 "nbformat": 4,
 "nbformat_minor": 5
}
