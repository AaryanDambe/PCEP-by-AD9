{
 "cells": [
  {
   "cell_type": "markdown",
   "id": "8c61a677",
   "metadata": {},
   "source": [
    "1. Given a string print True if the starting character of both the strings are same, print False if they are not same\n",
    "      \n",
    "      Sample String1: `Python uses an Interpreter`\n",
    "      \n",
    "      Sample String2: `Python is a dynamic language`\n",
    "\n",
    "      Expected Output: `True`\n",
    "      \n",
    "      Explanation: Starting character of both the string are same i.e. 'P', hence the expected \n",
    "      output is True"
   ]
  },
  {
   "cell_type": "code",
   "execution_count": null,
   "id": "d93d5410",
   "metadata": {},
   "outputs": [],
   "source": [
    "## Enter your code here\n",
    "Free_1 = input(\"Your First sentence here :-\" , )\n",
    "Free_2 = input(\"Your Second sentence here :-\", )\n",
    "if Free_1[0] == Free_2[0]:\n",
    "    print(True)\n",
    "else:\n",
    "    print(False)\n",
    "    "
   ]
  },
  {
   "cell_type": "markdown",
   "id": "72e31de5",
   "metadata": {},
   "source": [
    "2. Given a string check if the string is a pallindrome. A string is pallindrome if it reads same backward and forward. e.g. The word `madam` when read backwords is same as when read forwards.The word Hello when read backwards is `olleH` which not same when read forwards i.e. `Hello`, hence Hello is not a pallindrome\n",
    "        \n",
    "     Sample String: `madam`\n",
    "     \n",
    "     Expected Output: `madam is pallindrome` "
   ]
  },
  {
   "cell_type": "code",
   "execution_count": null,
   "id": "ceb7c745",
   "metadata": {},
   "outputs": [],
   "source": [
    "## Enter your code here\n",
    "\n",
    "fire = input(\"Type a Word to check :-\" , )\n",
    "ice = fire[ : :-1]\n",
    "if fire == ice :\n",
    "    print(fire +''+'is pallindrome')\n",
    "else:\n",
    "    print(fire+'' +''+'is not an pallindrome')"
   ]
  },
  {
   "cell_type": "markdown",
   "id": "82c8d644",
   "metadata": {},
   "source": [
    "3. Given a string, write a python code to count the number of upper and lower case characters in the given string\n",
    "\n",
    "    Sample String: `Python is a dynamically typed Programming Language`\n",
    "    \n",
    "    Expected Output: `Number of upper case char: 3`\n",
    "                     `Number of lower case char: 41`"
   ]
  },
  {
   "cell_type": "code",
   "execution_count": null,
   "id": "a13e0375",
   "metadata": {},
   "outputs": [],
   "source": [
    "# Enter your code here"
   ]
  },
  {
   "cell_type": "markdown",
   "id": "d6e8f3b2",
   "metadata": {},
   "source": [
    "4. Given a string, write a python program to check if all characters in the string are uppercase if not then turn it into uppercase\n",
    "\n",
    "    Sample String: `Python is a High Level Programming Language`\n",
    "    \n",
    "    Expected Output: `PYTHON IS A HIGH LEVEL PROGRAMMING LANGUAGE`"
   ]
  },
  {
   "cell_type": "code",
   "execution_count": null,
   "id": "ed81caec",
   "metadata": {},
   "outputs": [],
   "source": [
    "# Enter your code here"
   ]
  },
  {
   "cell_type": "markdown",
   "id": "d05175ba",
   "metadata": {},
   "source": [
    "5. Write a program that accepts a string from the user and calculates the number of letters and digits in the string. \n",
    "\n",
    "    Sample String: `hello world! 123` \n",
    "    \n",
    "    Expected Output: `LETTERS 10 DIGITS 3`"
   ]
  },
  {
   "cell_type": "code",
   "execution_count": null,
   "id": "7f270b29",
   "metadata": {},
   "outputs": [],
   "source": [
    "# Enter your code here"
   ]
  }
 ],
 "metadata": {
  "kernelspec": {
   "display_name": "Python 3",
   "language": "python",
   "name": "python3"
  },
  "language_info": {
   "codemirror_mode": {
    "name": "ipython",
    "version": 3
   },
   "file_extension": ".py",
   "mimetype": "text/x-python",
   "name": "python",
   "nbconvert_exporter": "python",
   "pygments_lexer": "ipython3",
   "version": "3.8.3"
  }
 },
 "nbformat": 4,
 "nbformat_minor": 5
}
