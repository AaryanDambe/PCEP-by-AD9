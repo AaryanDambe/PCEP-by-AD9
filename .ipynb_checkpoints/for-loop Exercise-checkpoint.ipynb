{
 "cells": [
  {
   "cell_type": "markdown",
   "id": "c4d4052c",
   "metadata": {},
   "source": [
    "1. Given a string find the occurence of a sub string in the string without using the \"count\" method.\n",
    "***Note: Use for loop and condtional statement***\n",
    "        \n",
    "    \n",
    "   Sample String: `Python is a dynamic programming language. Python uses an interprter for \n",
    "                    compiling the code and python is a high level language`\n",
    "        \n",
    "   Sub string: `python`\n",
    "        \n",
    "   Expected Output: `Number of occurence of python in the string is 3`"
   ]
  },
  {
   "cell_type": "code",
   "execution_count": 1,
   "id": "2b50f5b0",
   "metadata": {},
   "outputs": [],
   "source": [
    "#Enter your code here"
   ]
  },
  {
   "cell_type": "markdown",
   "id": "d0d2c733",
   "metadata": {},
   "source": [
    "2. Write a python program to print all numbers which are divisible by 2 or 3 in range 1-100.\n",
    "\n",
    "\tif number is divisible by 2 then print 'Number is divisible by 2'.\n",
    "    \n",
    "\tif number is divisible by 3 then print 'Number is divisible by 3'.\n",
    "    \n",
    "\tif number is divisible by both 2 & 3 then print 'Number is divisible by both 2 and 3'."
   ]
  },
  {
   "cell_type": "code",
   "execution_count": null,
   "id": "034e9dbd",
   "metadata": {},
   "outputs": [],
   "source": [
    "#Enter your code here"
   ]
  },
  {
   "cell_type": "markdown",
   "id": "91330a4b",
   "metadata": {},
   "source": [
    "3. Write a python program to print all even numbers between 1 to 51"
   ]
  },
  {
   "cell_type": "code",
   "execution_count": 2,
   "id": "40893b27",
   "metadata": {},
   "outputs": [],
   "source": [
    "#Enter your code here\n",
    "for num in range(1,51):\n",
    "    remainder = num % 2\n",
    "    if remaind"
   ]
  },
  {
   "cell_type": "markdown",
   "id": "66c914b9",
   "metadata": {},
   "source": [
    "4. Write a program to print the following pattern using for loop\n",
    "\n",
    "`*`\n",
    "\n",
    "`* *`\n",
    "\n",
    "`* * *`\n",
    "\n",
    "`* * * *`\n",
    "\n",
    "`* * * * *`\n"
   ]
  },
  {
   "cell_type": "code",
   "execution_count": null,
   "id": "d0bdcb72",
   "metadata": {},
   "outputs": [],
   "source": [
    "#Enter your code here"
   ]
  },
  {
   "cell_type": "markdown",
   "id": "0ae3d1bb",
   "metadata": {},
   "source": [
    "5. Given a string find the length of the string without using the \"len\" function\n",
    "***Note: Use for loop***\n",
    "\n",
    "Sample String: `Madam is Pallindrome`\n",
    "\n",
    "Expected Output: `Number of characters in the string are 20`"
   ]
  },
  {
   "cell_type": "code",
   "execution_count": null,
   "id": "3dca1568",
   "metadata": {},
   "outputs": [],
   "source": [
    "#Enter your code here"
   ]
  },
  {
   "cell_type": "markdown",
   "id": "697f0277",
   "metadata": {},
   "source": [
    "6. Write a python program to find the sum of all numbers in the range function\n",
    "\n",
    "Sample range: `1 to 5`\n",
    "\n",
    "Expected Output: `Sum of all number from 1 to 5 is 10`"
   ]
  },
  {
   "cell_type": "code",
   "execution_count": 1,
   "id": "09076c54",
   "metadata": {},
   "outputs": [],
   "source": [
    "#Enter your code here"
   ]
  },
  {
   "cell_type": "markdown",
   "id": "d7e59961",
   "metadata": {},
   "source": [
    "7. Write a program to count the number of upper case and lower caseletters in a string\n",
    "\n",
    "Sample String: `Python is a dynamic Programming Language`\n",
    "\n",
    "Expected Output: `Number of upper case char: 3` \n",
    "                 `Number of lower case char: 32`"
   ]
  },
  {
   "cell_type": "code",
   "execution_count": null,
   "id": "18ab64ac",
   "metadata": {},
   "outputs": [],
   "source": [
    "#Enter your code here"
   ]
  },
  {
   "cell_type": "markdown",
   "id": "56535531",
   "metadata": {},
   "source": [
    "8. Write a program that accepts a string from the user `(use input function)` and calculate the number of letters and digits.\n",
    "\n",
    "Sample String: `hello world! 123`\n",
    "\n",
    "Expected Output: `LETTERS 10 DIGITS 3`"
   ]
  },
  {
   "cell_type": "code",
   "execution_count": 2,
   "id": "f96e2f4d",
   "metadata": {},
   "outputs": [],
   "source": [
    "#Enter your code here"
   ]
  }
 ],
 "metadata": {
  "kernelspec": {
   "display_name": "Python 3",
   "language": "python",
   "name": "python3"
  },
  "language_info": {
   "codemirror_mode": {
    "name": "ipython",
    "version": 3
   },
   "file_extension": ".py",
   "mimetype": "text/x-python",
   "name": "python",
   "nbconvert_exporter": "python",
   "pygments_lexer": "ipython3",
   "version": "3.8.3"
  }
 },
 "nbformat": 4,
 "nbformat_minor": 5
}
