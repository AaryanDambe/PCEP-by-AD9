{
 "cells": [
  {
   "cell_type": "markdown",
   "id": "21c7d2b4",
   "metadata": {},
   "source": [
    "# Access items from a tuple us index "
   ]
  },
  {
   "cell_type": "code",
   "execution_count": 1,
   "id": "3750b6cd",
   "metadata": {},
   "outputs": [
    {
     "name": "stdout",
     "output_type": "stream",
     "text": [
      "Item at index 0 is Game Dev\n",
      "Item at index -1 is AI/ML\n"
     ]
    }
   ],
   "source": [
    "can = ('Game Dev','Web dev','Soft dev','AI/ML')\n",
    "print(f'Item at index 0 is {can[0]}')\n",
    "print(f'Item at index -1 is {can[-1]}')"
   ]
  },
  {
   "cell_type": "markdown",
   "id": "027a1960",
   "metadata": {},
   "source": [
    "# Slicing a tuple\n"
   ]
  },
  {
   "cell_type": "code",
   "execution_count": 2,
   "id": "aff28bc5",
   "metadata": {},
   "outputs": [
    {
     "name": "stdout",
     "output_type": "stream",
     "text": [
      "item from index 1 to -2 is equal to ('Web Dev', 'Soft Dev', 'AI/ML', 'Java', 'JS')\n",
      "reversed Tuple ('CSS', 'HTML', 'JS', 'Java', 'AI/ML', 'Soft Dev', 'Web Dev', 'Game Dev')\n",
      "Items from 5 to the start is ('JS', 'Java', 'AI/ML', 'Soft Dev', 'Web Dev', 'Game Dev')\n",
      "all item with step 2 ('Game Dev', 'Soft Dev', 'Java', 'HTML')\n",
      "Reversed items with step of 2 ('CSS', 'JS', 'AI/ML', 'Web Dev')\n"
     ]
    }
   ],
   "source": [
    "can = ('Game Dev', 'Web Dev', 'Soft Dev', 'AI/ML', 'Java', 'JS', 'HTML', 'CSS')\n",
    "print(f'item from index 1 to -2 is equal to {can[1:-2]}')\n",
    "print(f'reversed Tuple {can[::-1]}')\n",
    "print(f'Items from 5 to the start is {can[5::-1]}')\n",
    "print(f'all item with step 2 {can[::2]}')\n",
    "print(f'Reversed items with step of 2 {can[::-2]}')"
   ]
  },
  {
   "cell_type": "markdown",
   "id": "41ee6ba7",
   "metadata": {},
   "source": [
    "# Immutability :- Tuple is immutable object because we cannot change any item of the tuple by using any method or by it`s index  "
   ]
  },
  {
   "cell_type": "code",
   "execution_count": 3,
   "id": "feb2eee1",
   "metadata": {},
   "outputs": [
    {
     "name": "stdout",
     "output_type": "stream",
     "text": [
      "[1, 2, 3, 4, 5, 6, 7, 8, 9, 10]\n"
     ]
    }
   ],
   "source": [
    "num = [1.8,2,3,4,5,6,7,8,9,10]\n",
    "num[0]=1\n",
    "print(num)"
   ]
  },
  {
   "cell_type": "code",
   "execution_count": 4,
   "id": "7e983f9e",
   "metadata": {},
   "outputs": [
    {
     "ename": "TypeError",
     "evalue": "'tuple' object does not support item assignment",
     "output_type": "error",
     "traceback": [
      "\u001b[1;31m---------------------------------------------------------------------------\u001b[0m",
      "\u001b[1;31mTypeError\u001b[0m                                 Traceback (most recent call last)",
      "\u001b[1;32m<ipython-input-4-a4d07440f7bb>\u001b[0m in \u001b[0;36m<module>\u001b[1;34m\u001b[0m\n\u001b[0;32m      1\u001b[0m \u001b[0mnum\u001b[0m \u001b[1;33m=\u001b[0m \u001b[1;33m(\u001b[0m\u001b[1;36m1.8\u001b[0m\u001b[1;33m,\u001b[0m\u001b[1;36m2\u001b[0m\u001b[1;33m,\u001b[0m\u001b[1;36m3\u001b[0m\u001b[1;33m,\u001b[0m\u001b[1;36m4\u001b[0m\u001b[1;33m,\u001b[0m\u001b[1;36m5\u001b[0m\u001b[1;33m,\u001b[0m\u001b[1;36m6\u001b[0m\u001b[1;33m,\u001b[0m\u001b[1;36m7\u001b[0m\u001b[1;33m,\u001b[0m\u001b[1;36m8\u001b[0m\u001b[1;33m,\u001b[0m\u001b[1;36m9\u001b[0m\u001b[1;33m,\u001b[0m\u001b[1;36m10\u001b[0m\u001b[1;33m)\u001b[0m\u001b[1;33m\u001b[0m\u001b[1;33m\u001b[0m\u001b[0m\n\u001b[1;32m----> 2\u001b[1;33m \u001b[0mnum\u001b[0m\u001b[1;33m[\u001b[0m\u001b[1;36m0\u001b[0m\u001b[1;33m]\u001b[0m\u001b[1;33m=\u001b[0m\u001b[1;36m1\u001b[0m\u001b[1;33m\u001b[0m\u001b[1;33m\u001b[0m\u001b[0m\n\u001b[0m\u001b[0;32m      3\u001b[0m \u001b[0mprint\u001b[0m\u001b[1;33m(\u001b[0m\u001b[0mnum\u001b[0m\u001b[1;33m)\u001b[0m\u001b[1;33m\u001b[0m\u001b[1;33m\u001b[0m\u001b[0m\n",
      "\u001b[1;31mTypeError\u001b[0m: 'tuple' object does not support item assignment"
     ]
    }
   ],
   "source": [
    "num = (1.8,2,3,4,5,6,7,8,9,10)\n",
    "num[0]=1\n",
    "print(num)"
   ]
  },
  {
   "cell_type": "markdown",
   "id": "16655856",
   "metadata": {},
   "source": [
    "# Methods of Tuple "
   ]
  },
  {
   "cell_type": "code",
   "execution_count": 5,
   "id": "a6048662",
   "metadata": {},
   "outputs": [
    {
     "name": "stdout",
     "output_type": "stream",
     "text": [
      "1\n"
     ]
    }
   ],
   "source": [
    "can = ('Game Dev', 'Web Dev', 'Soft Dev', 'AI/ML', 'Java', 'JS', 'HTML', 'CSS')\n",
    "count = can.count('JS')\n",
    "print(count)"
   ]
  }
 ],
 "metadata": {
  "kernelspec": {
   "display_name": "Python 3",
   "language": "python",
   "name": "python3"
  },
  "language_info": {
   "codemirror_mode": {
    "name": "ipython",
    "version": 3
   },
   "file_extension": ".py",
   "mimetype": "text/x-python",
   "name": "python",
   "nbconvert_exporter": "python",
   "pygments_lexer": "ipython3",
   "version": "3.8.3"
  }
 },
 "nbformat": 4,
 "nbformat_minor": 5
}
