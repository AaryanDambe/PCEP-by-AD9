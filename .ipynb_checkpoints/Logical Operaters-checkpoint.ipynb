{
 "cells": [
  {
   "cell_type": "markdown",
   "id": "3c064eac",
   "metadata": {},
   "source": [
    "# Logical Operator\n",
    "\n",
    "    1. and - All the condition should be True then the entire condition is True\n",
    "    2. or - If atleast one condition is True then the entire condition is True\n",
    "    3. not\n",
    "# Logical Operator Precedence and Associativity\n",
    "\n",
    "    1. not\n",
    "    2. or - If atleast one condition is True then the entire condition is True\n",
    "    3. and - All the condition should be True then the entire condition is True\n",
    "    \n"
   ]
  },
  {
   "cell_type": "code",
   "execution_count": 1,
   "id": "8430e628",
   "metadata": {},
   "outputs": [
    {
     "name": "stdout",
     "output_type": "stream",
     "text": [
      "True\n"
     ]
    }
   ],
   "source": [
    "x = 4 \n",
    "y = 3\n",
    "z = 5\n",
    "if x> y or y>z:\n",
    "    print(True)\n",
    "else:\n",
    "    print(False)"
   ]
  },
  {
   "cell_type": "code",
   "execution_count": 2,
   "id": "6b04a67e",
   "metadata": {},
   "outputs": [
    {
     "name": "stdout",
     "output_type": "stream",
     "text": [
      "False\n"
     ]
    }
   ],
   "source": [
    "x = 4 \n",
    "y = 3\n",
    "z = 5\n",
    "if x> y and y>z:\n",
    "    print(True)\n",
    "else:\n",
    "    print(False)"
   ]
  },
  {
   "cell_type": "code",
   "execution_count": 10,
   "id": "a7cadb08",
   "metadata": {},
   "outputs": [
    {
     "name": "stdout",
     "output_type": "stream",
     "text": [
      "meal served\n"
     ]
    }
   ],
   "source": [
    "money = 20\n",
    "item = 'Burger'\n",
    "\n",
    "if (item =='Burger' or item == 'Pizza') and money == 20:\n",
    "    print('meal served')\n",
    "else:\n",
    "    print('meal not served')\n",
    "    "
   ]
  },
  {
   "cell_type": "code",
   "execution_count": 11,
   "id": "94eebdf8",
   "metadata": {},
   "outputs": [
    {
     "name": "stdout",
     "output_type": "stream",
     "text": [
      "meal served\n"
     ]
    }
   ],
   "source": [
    "money = 20\n",
    "item = 'Burger'\n",
    "\n",
    "if item =='Burger' or item == 'Pizza' and money == 20:\n",
    "    print('meal served')\n",
    "else:\n",
    "    print('meal not served')"
   ]
  },
  {
   "cell_type": "code",
   "execution_count": 12,
   "id": "184bd16d",
   "metadata": {},
   "outputs": [
    {
     "name": "stdout",
     "output_type": "stream",
     "text": [
      "meal served\n"
     ]
    }
   ],
   "source": [
    "money = 20\n",
    "item = 'Burger'\n",
    "\n",
    "if (item =='Burger' and item == 'Pizza') or money == 20:\n",
    "    print('meal served')\n",
    "else:\n",
    "    print('meal not served')"
   ]
  }
 ],
 "metadata": {
  "kernelspec": {
   "display_name": "Python 3",
   "language": "python",
   "name": "python3"
  },
  "language_info": {
   "codemirror_mode": {
    "name": "ipython",
    "version": 3
   },
   "file_extension": ".py",
   "mimetype": "text/x-python",
   "name": "python",
   "nbconvert_exporter": "python",
   "pygments_lexer": "ipython3",
   "version": "3.8.3"
  }
 },
 "nbformat": 4,
 "nbformat_minor": 5
}
