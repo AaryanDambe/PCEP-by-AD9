{
 "cells": [
  {
   "cell_type": "code",
   "execution_count": 2,
   "id": "16ff609c",
   "metadata": {},
   "outputs": [
    {
     "name": "stdout",
     "output_type": "stream",
     "text": [
      "Enter your name :-Aaryan\n",
      "Enter your age :-14\n",
      "the type of name is :-  <class 'str'>\n",
      "the type of age is :- <class 'str'>\n"
     ]
    }
   ],
   "source": [
    "name = input('Enter your name :-', )\n",
    "age = input('Enter your age :-', )\n",
    "print('the type of name is :- ',type(name))\n",
    "print('the type of age is :-', type int(age))\n"
   ]
  }
 ],
 "metadata": {
  "kernelspec": {
   "display_name": "Python 3",
   "language": "python",
   "name": "python3"
  },
  "language_info": {
   "codemirror_mode": {
    "name": "ipython",
    "version": 3
   },
   "file_extension": ".py",
   "mimetype": "text/x-python",
   "name": "python",
   "nbconvert_exporter": "python",
   "pygments_lexer": "ipython3",
   "version": "3.8.3"
  }
 },
 "nbformat": 4,
 "nbformat_minor": 5
}
