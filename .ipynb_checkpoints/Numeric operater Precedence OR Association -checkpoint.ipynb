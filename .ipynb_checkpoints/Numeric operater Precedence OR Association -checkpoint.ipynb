{
 "cells": [
  {
   "cell_type": "markdown",
   "id": "bb157333",
   "metadata": {},
   "source": [
    "<h1> Mathematical operater </h1>\n",
    "\n",
    "## +,-,/,%,*,// 'floor Division ', **"
   ]
  },
  {
   "cell_type": "code",
   "execution_count": 1,
   "id": "34fdaf43",
   "metadata": {},
   "outputs": [
    {
     "name": "stdout",
     "output_type": "stream",
     "text": [
      "1156\n"
     ]
    }
   ],
   "source": [
    "x=34\n",
    "print(x ** 2)"
   ]
  },
  {
   "cell_type": "markdown",
   "id": "6ffd8b81",
   "metadata": {},
   "source": [
    "## Precedence/Associativity means Priority\n",
    "    1. ()      --- Left to Right\n",
    "    2. **      ---- Right to Left\n",
    "    3. *, /, //, % --- Left to Right \n",
    "    4. +, -        --- Left to Right\n"
   ]
  },
  {
   "cell_type": "code",
   "execution_count": 2,
   "id": "5f1bee07",
   "metadata": {},
   "outputs": [
    {
     "name": "stdout",
     "output_type": "stream",
     "text": [
      "12.5\n"
     ]
    }
   ],
   "source": [
    "x = 10 ** 2/8\n",
    "print(x)"
   ]
  },
  {
   "cell_type": "code",
   "execution_count": 3,
   "id": "6ee3ee20",
   "metadata": {},
   "outputs": [
    {
     "name": "stdout",
     "output_type": "stream",
     "text": [
      "23.333333333333332\n"
     ]
    }
   ],
   "source": [
    "y= 30 - 60/3/3\n",
    "print(y)"
   ]
  }
 ],
 "metadata": {
  "kernelspec": {
   "display_name": "Python 3",
   "language": "python",
   "name": "python3"
  },
  "language_info": {
   "codemirror_mode": {
    "name": "ipython",
    "version": 3
   },
   "file_extension": ".py",
   "mimetype": "text/x-python",
   "name": "python",
   "nbconvert_exporter": "python",
   "pygments_lexer": "ipython3",
   "version": "3.8.3"
  }
 },
 "nbformat": 4,
 "nbformat_minor": 5
}
