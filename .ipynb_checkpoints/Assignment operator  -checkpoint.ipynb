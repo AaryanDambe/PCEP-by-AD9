{
 "cells": [
  {
   "cell_type": "markdown",
   "id": "9ef03686",
   "metadata": {},
   "source": [
    "<h1>Assignment Operater</h1>\n",
    "<hr>\n",
    "\n",
    "    1. Addition -->    x += 1 ---> x = x + 1\n",
    "    2. Subtraction --> x -= 1 -->  x = x - 1\n",
    "    3. Product -->     x *= 1 -->  x = x * 1\n",
    "    4. Division -->    x /= 1 -->  x = x / 1\n",
    "    5. Remainder -->   x %= 1 -->  x = x % 1\n",
    "    6. Floor Div -->   x //= 1 --> x = x // 1\n",
    "    7. Exponent -->    x **= 1 --> x = x ** 1\n"
   ]
  },
  {
   "cell_type": "code",
   "execution_count": 2,
   "id": "ee77f916",
   "metadata": {},
   "outputs": [
    {
     "name": "stdout",
     "output_type": "stream",
     "text": [
      "4\n"
     ]
    }
   ],
   "source": [
    "x = 2\n",
    "x *=2\n",
    "print(x)"
   ]
  }
 ],
 "metadata": {
  "kernelspec": {
   "display_name": "Python 3",
   "language": "python",
   "name": "python3"
  },
  "language_info": {
   "codemirror_mode": {
    "name": "ipython",
    "version": 3
   },
   "file_extension": ".py",
   "mimetype": "text/x-python",
   "name": "python",
   "nbconvert_exporter": "python",
   "pygments_lexer": "ipython3",
   "version": "3.8.3"
  }
 },
 "nbformat": 4,
 "nbformat_minor": 5
}
