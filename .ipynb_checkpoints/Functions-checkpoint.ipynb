{
 "cells": [
  {
   "cell_type": "markdown",
   "id": "0061f65f",
   "metadata": {},
   "source": [
    "## Functional Programming "
   ]
  },
  {
   "cell_type": "code",
   "execution_count": 5,
   "id": "f75c5d89",
   "metadata": {},
   "outputs": [
    {
     "name": "stdout",
     "output_type": "stream",
     "text": [
      "Addition =  7\n",
      "Substraction =  -1\n"
     ]
    }
   ],
   "source": [
    "x = 3\n",
    "y = 4\n",
    "def addition():\n",
    "    addition = x+y\n",
    "    print ('Addition = ',addition)\n",
    "def substraction():\n",
    "    subs = x-y\n",
    "    print('Substraction = ',subs)\n",
    "addition()\n",
    "substraction()"
   ]
  },
  {
   "cell_type": "markdown",
   "id": "2c348964",
   "metadata": {},
   "source": [
    "**Name Scops - Global || Local Variables  **\n",
    "            Name scops is the visibility of a variable name in the entire code \n",
    "            \n",
    "            \"\""
   ]
  },
  {
   "cell_type": "code",
   "execution_count": 20,
   "id": "0ccb44d9",
   "metadata": {},
   "outputs": [
    {
     "name": "stdout",
     "output_type": "stream",
     "text": [
      "Addition is equall to 20\n",
      "Value of x is 3\n",
      "Value of y is 4\n"
     ]
    }
   ],
   "source": [
    "x = 3\n",
    "y = 4\n",
    "\n",
    "def addition():\n",
    "    x = 5\n",
    "    y = 15\n",
    "    add = x + y\n",
    "    print(f'Addition is equall to {add}')\n",
    "addition()\n",
    "print(f'Value of x is {x}')\n",
    "print(f'Value of y is {y}')"
   ]
  },
  {
   "cell_type": "code",
   "execution_count": 23,
   "id": "ff43a843",
   "metadata": {},
   "outputs": [
    {
     "name": "stdout",
     "output_type": "stream",
     "text": [
      "Addition is equall to 20\n",
      "Value of x is 5\n",
      "Value of y is 15\n"
     ]
    }
   ],
   "source": [
    "x = 3 #Global Variable\n",
    "y = 4 #Global Variable\n",
    "\n",
    "def addition():\n",
    "    global a,b\n",
    "    a = 5 #Local Variable\n",
    "    b = 15 # Local Variable \n",
    "    add = a + b\n",
    "    print(f'Addition is equall to {add}')\n",
    "addition()\n",
    "print(f'Value of x is {a}')\n",
    "print(f'Value of y is {b}')"
   ]
  },
  {
   "cell_type": "markdown",
   "id": "8a8db90d",
   "metadata": {},
   "source": [
    "## Parameters Arguments"
   ]
  },
  {
   "cell_type": "code",
   "execution_count": 28,
   "id": "75fff41f",
   "metadata": {},
   "outputs": [
    {
     "name": "stdout",
     "output_type": "stream",
     "text": [
      "Addition is equall to 5\n"
     ]
    }
   ],
   "source": [
    "def add(x,y):\n",
    "    addi = x + y\n",
    "    print(f'Addition is equall to {addi}')\n",
    "add(2,3)"
   ]
  },
  {
   "cell_type": "code",
   "execution_count": 32,
   "id": "3dd99801",
   "metadata": {},
   "outputs": [
    {
     "name": "stdout",
     "output_type": "stream",
     "text": [
      "Substraction is equall to 2\n"
     ]
    }
   ],
   "source": [
    "def sub(x,y):\n",
    "    addi = x - y\n",
    "    print(f'Substraction is equall to {addi}')\n",
    "sub(6,4)"
   ]
  },
  {
   "cell_type": "markdown",
   "id": "bf3b6fa7",
   "metadata": {},
   "source": [
    "## Default Argument \n",
    "    When parametres have a default value then even if we don`t an argument stil the function \n",
    "    will work ."
   ]
  },
  {
   "cell_type": "code",
   "execution_count": 33,
   "id": "569df35e",
   "metadata": {},
   "outputs": [
    {
     "name": "stdout",
     "output_type": "stream",
     "text": [
      "Value of x is 12\n",
      "Value of y is 3\n",
      "Division = 4.0\n"
     ]
    }
   ],
   "source": [
    "def division(x=12,y=3):\n",
    "    print('Value of x is',x)\n",
    "    print('Value of y is',y)\n",
    "    div=x/y\n",
    "    print('Division =',div)\n",
    "division()"
   ]
  },
  {
   "cell_type": "code",
   "execution_count": 36,
   "id": "0063633b",
   "metadata": {},
   "outputs": [
    {
     "name": "stdout",
     "output_type": "stream",
     "text": [
      "Product is equall to 15\n",
      "Product is equall to 36\n",
      "Product is equall to 33\n",
      "Product is equall to 26\n"
     ]
    }
   ],
   "source": [
    "def product(x,y=3):\n",
    "    mul = x*y\n",
    "    print(f'Product is equall to {mul}')\n",
    "product(5)\n",
    "product(12)\n",
    "product(11)\n",
    "product(2,13)"
   ]
  },
  {
   "cell_type": "code",
   "execution_count": 38,
   "id": "ceb4e4b4",
   "metadata": {},
   "outputs": [
    {
     "name": "stdout",
     "output_type": "stream",
     "text": [
      "The value of the x is 12\n",
      "the value of y is 13\n",
      "Result = 25\n",
      "The value of the x is 1\n",
      "the value of y is 13\n",
      "Result = 14\n"
     ]
    }
   ],
   "source": [
    "def result(x=12,y=13):\n",
    "    print('The value of the x is',x)\n",
    "    print('the value of y is', y)\n",
    "    add= x+y\n",
    "    print('Result =',add)\n",
    "result()\n",
    "result(1)"
   ]
  },
  {
   "cell_type": "markdown",
   "id": "08785e2d",
   "metadata": {},
   "source": [
    "**Return key\n",
    "\n",
    "    it return the function called in the **"
   ]
  },
  {
   "cell_type": "code",
   "execution_count": 3,
   "id": "24a1a1d4",
   "metadata": {},
   "outputs": [
    {
     "name": "stdout",
     "output_type": "stream",
     "text": [
      "Total is equal to 12\n"
     ]
    }
   ],
   "source": [
    "def function(x,y,z):\n",
    "    result = x+y+z\n",
    "    return result\n",
    "totql =function(2,4,6)\n",
    "print(f'Total is equal to {totql}')"
   ]
  },
  {
   "cell_type": "code",
   "execution_count": 5,
   "id": "5228549c",
   "metadata": {},
   "outputs": [
    {
     "name": "stdout",
     "output_type": "stream",
     "text": [
      "Total = 17\n"
     ]
    }
   ],
   "source": [
    "def function(x,y,z):\n",
    "    result = x+y+z\n",
    "    return result\n",
    "print('Total =',function(3,4,10))"
   ]
  },
  {
   "cell_type": "code",
   "execution_count": 6,
   "id": "8371052b",
   "metadata": {},
   "outputs": [
    {
     "name": "stdout",
     "output_type": "stream",
     "text": [
      "Product = 100\n"
     ]
    }
   ],
   "source": [
    "def mul(x,y =10):\n",
    "    result=x*y\n",
    "    print('Product =',result)\n",
    "mul(10)"
   ]
  },
  {
   "cell_type": "markdown",
   "id": "985a8516",
   "metadata": {},
   "source": [
    "# Excersice "
   ]
  },
  {
   "cell_type": "markdown",
   "id": "acf7e58f",
   "metadata": {},
   "source": [
    "Given a list of numbers write a code to print even and odd number\n",
    "\n",
    "    Sample List: [1, 2, 3, 4, 5, 6, 7, 8, 9, 10]\n",
    "    Expected Output: 1 3 5 7 are odd numbers\n",
    "                     2 4 6 8 are even numbers\n"
   ]
  },
  {
   "cell_type": "code",
   "execution_count": 2,
   "id": "62930c1f",
   "metadata": {},
   "outputs": [
    {
     "name": "stdout",
     "output_type": "stream",
     "text": [
      "1 num is an odd number\n",
      "2 num is an even number\n",
      "3 num is an odd number\n",
      "4 num is an even number\n",
      "5 num is an odd number\n",
      "6 num is an even number\n",
      "7 num is an odd number\n",
      "8 num is an even number\n",
      "9 num is an odd number\n",
      "10 num is an even number\n"
     ]
    }
   ],
   "source": [
    "def even_odd_finder(num_list):\n",
    "    for num in num_list:\n",
    "        remain = num % 2\n",
    "        if remain == 0:\n",
    "            print(num,'num is an even number')\n",
    "        elif remain != 0:\n",
    "            print(num,'num is an odd number')\n",
    "num_list = [1,2,3,4,5,6,7,8,9,10]\n",
    "even_odd_finder(num_list)"
   ]
  },
  {
   "cell_type": "code",
   "execution_count": null,
   "id": "8df1a12e",
   "metadata": {},
   "outputs": [],
   "source": []
  }
 ],
 "metadata": {
  "kernelspec": {
   "display_name": "Python 3",
   "language": "python",
   "name": "python3"
  },
  "language_info": {
   "codemirror_mode": {
    "name": "ipython",
    "version": 3
   },
   "file_extension": ".py",
   "mimetype": "text/x-python",
   "name": "python",
   "nbconvert_exporter": "python",
   "pygments_lexer": "ipython3",
   "version": "3.8.3"
  }
 },
 "nbformat": 4,
 "nbformat_minor": 5
}
