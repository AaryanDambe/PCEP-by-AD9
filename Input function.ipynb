{
 "cells": [
  {
   "cell_type": "code",
   "execution_count": 4,
   "id": "6e8f17ab",
   "metadata": {},
   "outputs": [
    {
     "name": "stdout",
     "output_type": "stream",
     "text": [
      "Enter your name :-fsgg\n",
      "Enter your age :-7\n",
      "the type of name is :-  <class 'str'>\n",
      "the type of age is :- <class 'int'>\n"
     ]
    }
   ],
   "source": [
    "name = input('Enter your name :-', )\n",
    "age = input('Enter your age :-', )\n",
    "age = int(age)\n",
    "print('the type of name is :- ',type(name))\n",
    "print('the type of age is :-', type(age))\n"
   ]
  },
  {
   "cell_type": "code",
   "execution_count": null,
   "id": "2394711a",
   "metadata": {},
   "outputs": [],
   "source": []
  }
 ],
 "metadata": {
  "kernelspec": {
   "display_name": "Python 3",
   "language": "python",
   "name": "python3"
  },
  "language_info": {
   "codemirror_mode": {
    "name": "ipython",
    "version": 3
   },
   "file_extension": ".py",
   "mimetype": "text/x-python",
   "name": "python",
   "nbconvert_exporter": "python",
   "pygments_lexer": "ipython3",
   "version": "3.8.3"
  }
 },
 "nbformat": 4,
 "nbformat_minor": 5
}
