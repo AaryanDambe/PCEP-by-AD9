{
 "cells": [
  {
   "cell_type": "markdown",
   "id": "195b85b4",
   "metadata": {},
   "source": [
    "1. Write a program to capitalize the 1st and last character of a given name\n",
    "\n",
    "    Sample String : `Prakash Sakari`\n",
    "\n",
    "    Expected Output : `Prakash sakarI`"
   ]
  },
  {
   "cell_type": "code",
   "execution_count": 18,
   "id": "f0d4b9c6",
   "metadata": {},
   "outputs": [
    {
     "name": "stdout",
     "output_type": "stream",
     "text": [
      "Prakash sakarI\n"
     ]
    }
   ],
   "source": [
    "# Enter the code \n",
    "free = 'Prakash Sakari'\n",
    "f_free = free[0:-1].capitalize()\n",
    "l_free = free[-1].upper()\n",
    "print(f_free+l_free)"
   ]
  },
  {
   "cell_type": "markdown",
   "id": "65506c71",
   "metadata": {},
   "source": [
    "2. Write Program to replace space with | in a given sentence\n",
    "\n",
    "    Sample String : `My name is Prakash`\n",
    "    \n",
    "    Expected Output : `My|name|is|Prakash`"
   ]
  },
  {
   "cell_type": "code",
   "execution_count": 20,
   "id": "391d2fe5",
   "metadata": {},
   "outputs": [
    {
     "name": "stdout",
     "output_type": "stream",
     "text": [
      "My|name|is|prakash\n"
     ]
    }
   ],
   "source": [
    "soul = 'My name is prakash'\n",
    "new_soul = soul.replace(' ', '|')\n",
    "print(new_soul)"
   ]
  },
  {
   "cell_type": "markdown",
   "id": "85f67810",
   "metadata": {},
   "source": [
    "\n",
    "3. Write a program to print the reverse of a string\n",
    "\n",
    "    Sample String : `Hello World`\n",
    "    \n",
    "    Expected Output : `dlroW olleH`"
   ]
  },
  {
   "cell_type": "code",
   "execution_count": 32,
   "id": "f3be20cc",
   "metadata": {},
   "outputs": [
    {
     "name": "stdout",
     "output_type": "stream",
     "text": [
      "dlroW olle\n"
     ]
    }
   ],
   "source": [
    "string = 'Hello World' \n",
    "n_string = string[-1::-1]\n",
    "print(n_string)"
   ]
  },
  {
   "cell_type": "markdown",
   "id": "4d9839d1",
   "metadata": {},
   "source": [
    "4. Given a string of odd length greater than 7 return a new string made of the middle three characters of a given String\n",
    "\n",
    "    Sample String : `Prakash`\n",
    "    \n",
    "    Expected Output : `aka`\n",
    "\n"
   ]
  },
  {
   "cell_type": "code",
   "execution_count": 35,
   "id": "bfdba56c",
   "metadata": {},
   "outputs": [
    {
     "name": "stdout",
     "output_type": "stream",
     "text": [
      "aka\n"
     ]
    }
   ],
   "source": [
    "#Enter your code here\n",
    "oz = 'Prakash'\n",
    "n_oz = oz[2:5]\n",
    "print(n_oz)"
   ]
  },
  {
   "cell_type": "markdown",
   "id": "7444374d",
   "metadata": {},
   "source": [
    "5. Given two strings, s1 and s2, create a new string by appending s2 in the middle of s1\n",
    "\n",
    "    s1 : `Prakash`\n",
    "    \n",
    "    s2 : `Sakari`\n",
    "    \n",
    "    Expected Ouput : `PraSakarikash`\n",
    "\n"
   ]
  },
  {
   "cell_type": "code",
   "execution_count": 36,
   "id": "be4ae45a",
   "metadata": {},
   "outputs": [
    {
     "name": "stdout",
     "output_type": "stream",
     "text": [
      "PraSakarikash\n"
     ]
    }
   ],
   "source": [
    "# Enter your code here \n",
    "ad1 = 'Prakash'\n",
    "ad2 ='Sakari'\n",
    "new1_ad1 = ad1[ 0:3]\n",
    "new2_ad1 = ad1[3:]\n",
    "print(new1_ad1+ad2+new2_ad1)"
   ]
  },
  {
   "cell_type": "markdown",
   "id": "5ca4d622",
   "metadata": {},
   "source": [
    "6. Given two strings, s1, and s2 return a new string made of the first, middle, and last characters each input string\n",
    "\n",
    "    s1 : `Prakash`\n",
    "    \n",
    "    s2 : `Sakari`\n",
    "    \n",
    "    Expected Ouput : `PSkahi`\n",
    "\n"
   ]
  },
  {
   "cell_type": "code",
   "execution_count": 39,
   "id": "6f71703b",
   "metadata": {},
   "outputs": [
    {
     "name": "stdout",
     "output_type": "stream",
     "text": [
      "PSkahi\n"
     ]
    }
   ],
   "source": [
    "# Enter your code here\n",
    "s1 = 'Prakash'\n",
    "s2 = 'Sakari'\n",
    "new_s = s1[0]+s2[0]\n",
    "new_s2 = s2[2:4]+s1[-1]+s2[-1]\n",
    "print(new_s+new_s2)"
   ]
  },
  {
   "cell_type": "markdown",
   "id": "de284322",
   "metadata": {},
   "source": [
    "7. Find all occurrences of “Python” in a given string ignoring the case\n",
    "\n",
    "    Sample String : `Python is a High Level Programming Language, python uses an interpreter. Python is a dynamically typed language`\n",
    "    \n",
    "    Expected Output : `3`"
   ]
  },
  {
   "cell_type": "code",
   "execution_count": 57,
   "id": "a22111fd",
   "metadata": {},
   "outputs": [
    {
     "ename": "TypeError",
     "evalue": "'builtin_function_or_method' object is not subscriptable",
     "output_type": "error",
     "traceback": [
      "\u001b[1;31m---------------------------------------------------------------------------\u001b[0m",
      "\u001b[1;31mTypeError\u001b[0m                                 Traceback (most recent call last)",
      "\u001b[1;32m<ipython-input-57-55b1f5ae0235>\u001b[0m in \u001b[0;36m<module>\u001b[1;34m\u001b[0m\n\u001b[0;32m      1\u001b[0m \u001b[1;31m#Enter your code here\u001b[0m\u001b[1;33m\u001b[0m\u001b[1;33m\u001b[0m\u001b[1;33m\u001b[0m\u001b[0m\n\u001b[0;32m      2\u001b[0m \u001b[0mjarvis\u001b[0m \u001b[1;33m=\u001b[0m \u001b[1;34m'Python is a High Level Programming Language, python uses an interpreter. Python is a dynamically typed language'\u001b[0m\u001b[1;33m\u001b[0m\u001b[1;33m\u001b[0m\u001b[0m\n\u001b[1;32m----> 3\u001b[1;33m \u001b[0mnew_jarvis\u001b[0m \u001b[1;33m=\u001b[0m\u001b[0mn_jarvis\u001b[0m\u001b[1;33m.\u001b[0m\u001b[0mindex\u001b[0m\u001b[1;33m[\u001b[0m\u001b[1;34m'python'\u001b[0m\u001b[1;33m]\u001b[0m\u001b[1;33m\u001b[0m\u001b[1;33m\u001b[0m\u001b[0m\n\u001b[0m\u001b[0;32m      4\u001b[0m \u001b[0mprint\u001b[0m\u001b[1;33m(\u001b[0m\u001b[0mnew_jarvis\u001b[0m\u001b[1;33m)\u001b[0m\u001b[1;33m\u001b[0m\u001b[1;33m\u001b[0m\u001b[0m\n",
      "\u001b[1;31mTypeError\u001b[0m: 'builtin_function_or_method' object is not subscriptable"
     ]
    }
   ],
   "source": [
    "#Enter your code here\n",
    "jarvis = 'Python is a High Level Programming Language, python uses an interpreter. Python is a dynamically typed language'\n",
    "new_jarvis =n_jarvis.index['python']\n",
    "print(new_jarvis)"
   ]
  },
  {
   "cell_type": "code",
   "execution_count": 59,
   "id": "e7f1f1f4",
   "metadata": {},
   "outputs": [
    {
     "name": "stdout",
     "output_type": "stream",
     "text": [
      "nayraA ebmaD\n"
     ]
    }
   ],
   "source": [
    "st = 'Aaryan' \n",
    "st2 = 'Dambe' \n",
    "n_st = st[::-1] + ' '+st2[::-1]\n",
    "print(n_st)\n"
   ]
  }
 ],
 "metadata": {
  "kernelspec": {
   "display_name": "Python 3",
   "language": "python",
   "name": "python3"
  },
  "language_info": {
   "codemirror_mode": {
    "name": "ipython",
    "version": 3
   },
   "file_extension": ".py",
   "mimetype": "text/x-python",
   "name": "python",
   "nbconvert_exporter": "python",
   "pygments_lexer": "ipython3",
   "version": "3.8.3"
  }
 },
 "nbformat": 4,
 "nbformat_minor": 5
}
