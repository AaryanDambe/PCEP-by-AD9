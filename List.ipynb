{
 "cells": [
  {
   "cell_type": "code",
   "execution_count": 1,
   "id": "b7e70ace",
   "metadata": {},
   "outputs": [
    {
     "name": "stdout",
     "output_type": "stream",
     "text": [
      "['web dev', 'Soft.dev ', 'AI/ML', 'CSS']\n",
      "['web dev', 'Soft.dev ', 'AI/ML', 'CSS']\n"
     ]
    }
   ],
   "source": [
    "Courses = ['web dev','game dev', 'Soft.dev ', 'Img process','AI/ML', 'HTML', 'CSS', 'java']\n",
    "print(Courses[0:8:2] )\n",
    "print(Courses[::2])"
   ]
  },
  {
   "cell_type": "markdown",
   "id": "0dae6e5b",
   "metadata": {},
   "source": [
    " index                0           1           2           3          4<br>\n",
    "    negative index      -5          -4          -3          -2         -1\n"
   ]
  },
  {
   "cell_type": "markdown",
   "id": "e02d6384",
   "metadata": {},
   "source": [
    "# List is an mutable object\n",
    "    A mutable object is the one which can be changed by using index or methods of the objects"
   ]
  },
  {
   "cell_type": "code",
   "execution_count": 1,
   "id": "c7332b94",
   "metadata": {},
   "outputs": [
    {
     "name": "stdout",
     "output_type": "stream",
     "text": [
      "Orignal list= [1.5, 2, 3, 4, 5]\n",
      "Updated List [1, 2, 3, 4, 5]\n"
     ]
    }
   ],
   "source": [
    "num_list = [1.5,2,3,4,5]\n",
    "print('Orignal list=',num_list)\n",
    "## changing item at index 0 to 1\n",
    "num_list[0] = 1\n",
    "print('Updated List',num_list)"
   ]
  },
  {
   "cell_type": "markdown",
   "id": "5c879515",
   "metadata": {},
   "source": [
    "# String is an immutable object\n",
    "        A immutable object is the one which can`t change its value by any index`s method"
   ]
  },
  {
   "cell_type": "code",
   "execution_count": 3,
   "id": "b75ada52",
   "metadata": {},
   "outputs": [
    {
     "ename": "TypeError",
     "evalue": "'str' object does not support item assignment",
     "output_type": "error",
     "traceback": [
      "\u001b[1;31m---------------------------------------------------------------------------\u001b[0m",
      "\u001b[1;31mTypeError\u001b[0m                                 Traceback (most recent call last)",
      "\u001b[1;32m<ipython-input-3-bdeb63eb31a7>\u001b[0m in \u001b[0;36m<module>\u001b[1;34m\u001b[0m\n\u001b[0;32m      1\u001b[0m \u001b[0ms_s\u001b[0m\u001b[1;33m=\u001b[0m \u001b[1;34m'hello world'\u001b[0m\u001b[1;33m\u001b[0m\u001b[1;33m\u001b[0m\u001b[0m\n\u001b[1;32m----> 2\u001b[1;33m \u001b[0ms_s\u001b[0m\u001b[1;33m[\u001b[0m\u001b[1;36m0\u001b[0m\u001b[1;33m]\u001b[0m\u001b[1;33m=\u001b[0m\u001b[1;34m'H'\u001b[0m\u001b[1;33m\u001b[0m\u001b[1;33m\u001b[0m\u001b[0m\n\u001b[0m\u001b[0;32m      3\u001b[0m \u001b[0mprint\u001b[0m\u001b[1;33m(\u001b[0m\u001b[0ms_s\u001b[0m\u001b[1;33m)\u001b[0m\u001b[1;33m\u001b[0m\u001b[1;33m\u001b[0m\u001b[0m\n",
      "\u001b[1;31mTypeError\u001b[0m: 'str' object does not support item assignment"
     ]
    }
   ],
   "source": [
    "s_s= 'hello world'\n",
    "s_s[0]='H'\n",
    "print(s_s)"
   ]
  },
  {
   "cell_type": "code",
   "execution_count": 4,
   "id": "12f57e84",
   "metadata": {},
   "outputs": [
    {
     "name": "stdout",
     "output_type": "stream",
     "text": [
      "[1, 3, 3, 3, 3, 5]\n"
     ]
    }
   ],
   "source": [
    "no_list = [1,2,3,4,5]\n",
    "no_list[1:4] = [3,3,3,3]\n",
    "print(no_list)"
   ]
  },
  {
   "cell_type": "code",
   "execution_count": 12,
   "id": "28197dbe",
   "metadata": {},
   "outputs": [
    {
     "name": "stdout",
     "output_type": "stream",
     "text": [
      "[1, 2, 10, 11, 8, 9]\n"
     ]
    }
   ],
   "source": [
    "not_l = [1,2,3,4,5,6,7,8,9]\n",
    "not_l[2:7] = [10,11]\n",
    "print(not_l)\n"
   ]
  },
  {
   "cell_type": "markdown",
   "id": "1d664bb5",
   "metadata": {},
   "source": [
    "# Methods of Lists"
   ]
  },
  {
   "cell_type": "code",
   "execution_count": 6,
   "id": "41b4175a",
   "metadata": {},
   "outputs": [
    {
     "name": "stdout",
     "output_type": "stream",
     "text": [
      "Help on class list in module builtins:\n",
      "\n",
      "class list(object)\n",
      " |  list(iterable=(), /)\n",
      " |  \n",
      " |  Built-in mutable sequence.\n",
      " |  \n",
      " |  If no argument is given, the constructor creates a new empty list.\n",
      " |  The argument must be an iterable if specified.\n",
      " |  \n",
      " |  Methods defined here:\n",
      " |  \n",
      " |  __add__(self, value, /)\n",
      " |      Return self+value.\n",
      " |  \n",
      " |  __contains__(self, key, /)\n",
      " |      Return key in self.\n",
      " |  \n",
      " |  __delitem__(self, key, /)\n",
      " |      Delete self[key].\n",
      " |  \n",
      " |  __eq__(self, value, /)\n",
      " |      Return self==value.\n",
      " |  \n",
      " |  __ge__(self, value, /)\n",
      " |      Return self>=value.\n",
      " |  \n",
      " |  __getattribute__(self, name, /)\n",
      " |      Return getattr(self, name).\n",
      " |  \n",
      " |  __getitem__(...)\n",
      " |      x.__getitem__(y) <==> x[y]\n",
      " |  \n",
      " |  __gt__(self, value, /)\n",
      " |      Return self>value.\n",
      " |  \n",
      " |  __iadd__(self, value, /)\n",
      " |      Implement self+=value.\n",
      " |  \n",
      " |  __imul__(self, value, /)\n",
      " |      Implement self*=value.\n",
      " |  \n",
      " |  __init__(self, /, *args, **kwargs)\n",
      " |      Initialize self.  See help(type(self)) for accurate signature.\n",
      " |  \n",
      " |  __iter__(self, /)\n",
      " |      Implement iter(self).\n",
      " |  \n",
      " |  __le__(self, value, /)\n",
      " |      Return self<=value.\n",
      " |  \n",
      " |  __len__(self, /)\n",
      " |      Return len(self).\n",
      " |  \n",
      " |  __lt__(self, value, /)\n",
      " |      Return self<value.\n",
      " |  \n",
      " |  __mul__(self, value, /)\n",
      " |      Return self*value.\n",
      " |  \n",
      " |  __ne__(self, value, /)\n",
      " |      Return self!=value.\n",
      " |  \n",
      " |  __repr__(self, /)\n",
      " |      Return repr(self).\n",
      " |  \n",
      " |  __reversed__(self, /)\n",
      " |      Return a reverse iterator over the list.\n",
      " |  \n",
      " |  __rmul__(self, value, /)\n",
      " |      Return value*self.\n",
      " |  \n",
      " |  __setitem__(self, key, value, /)\n",
      " |      Set self[key] to value.\n",
      " |  \n",
      " |  __sizeof__(self, /)\n",
      " |      Return the size of the list in memory, in bytes.\n",
      " |  \n",
      " |  append(self, object, /)\n",
      " |      Append object to the end of the list.\n",
      " |  \n",
      " |  clear(self, /)\n",
      " |      Remove all items from list.\n",
      " |  \n",
      " |  copy(self, /)\n",
      " |      Return a shallow copy of the list.\n",
      " |  \n",
      " |  count(self, value, /)\n",
      " |      Return number of occurrences of value.\n",
      " |  \n",
      " |  extend(self, iterable, /)\n",
      " |      Extend list by appending elements from the iterable.\n",
      " |  \n",
      " |  index(self, value, start=0, stop=2147483647, /)\n",
      " |      Return first index of value.\n",
      " |      \n",
      " |      Raises ValueError if the value is not present.\n",
      " |  \n",
      " |  insert(self, index, object, /)\n",
      " |      Insert object before index.\n",
      " |  \n",
      " |  pop(self, index=-1, /)\n",
      " |      Remove and return item at index (default last).\n",
      " |      \n",
      " |      Raises IndexError if list is empty or index is out of range.\n",
      " |  \n",
      " |  remove(self, value, /)\n",
      " |      Remove first occurrence of value.\n",
      " |      \n",
      " |      Raises ValueError if the value is not present.\n",
      " |  \n",
      " |  reverse(self, /)\n",
      " |      Reverse *IN PLACE*.\n",
      " |  \n",
      " |  sort(self, /, *, key=None, reverse=False)\n",
      " |      Sort the list in ascending order and return None.\n",
      " |      \n",
      " |      The sort is in-place (i.e. the list itself is modified) and stable (i.e. the\n",
      " |      order of two equal elements is maintained).\n",
      " |      \n",
      " |      If a key function is given, apply it once to each list item and sort them,\n",
      " |      ascending or descending, according to their function values.\n",
      " |      \n",
      " |      The reverse flag can be set to sort in descending order.\n",
      " |  \n",
      " |  ----------------------------------------------------------------------\n",
      " |  Static methods defined here:\n",
      " |  \n",
      " |  __new__(*args, **kwargs) from builtins.type\n",
      " |      Create and return a new object.  See help(type) for accurate signature.\n",
      " |  \n",
      " |  ----------------------------------------------------------------------\n",
      " |  Data and other attributes defined here:\n",
      " |  \n",
      " |  __hash__ = None\n",
      "\n",
      "None\n"
     ]
    }
   ],
   "source": [
    "print(help(list))"
   ]
  },
  {
   "cell_type": "markdown",
   "id": "e067eed0",
   "metadata": {},
   "source": [
    "  # Adding items at the end of the list with different method"
   ]
  },
  {
   "cell_type": "code",
   "execution_count": 10,
   "id": "b6ac63c5",
   "metadata": {},
   "outputs": [
    {
     "name": "stdout",
     "output_type": "stream",
     "text": [
      "Orignal list ['Web Dev', 'Game Dev', 'Soft Dev']\n",
      "Updated list ['Web Dev', 'Game Dev', 'Soft Dev', 'AI/ML', ['HTML', 'CSS', 'JS']]\n"
     ]
    }
   ],
   "source": [
    "## Append object to the end of the list##\n",
    "C = ['Web Dev','Game Dev','Soft Dev']\n",
    "print('Orignal list', C)\n",
    "\n",
    "C.append('AI/ML')\n",
    "C.append(['HTML','CSS','JS'])\n",
    "print('Updated list', C)"
   ]
  },
  {
   "cell_type": "code",
   "execution_count": 13,
   "id": "7967b91e",
   "metadata": {},
   "outputs": [
    {
     "name": "stdout",
     "output_type": "stream",
     "text": [
      "Orignal list ['Web dev', 'Game dev', 'AI/ML']\n",
      "Updated_List ['Web dev', 'Game dev', 'soft dev', 'AI/ML']\n"
     ]
    }
   ],
   "source": [
    "##Insert Method :- Is used to Insert object at a specific index ##\n",
    "work = ['Web dev', 'Game dev', 'AI/ML']\n",
    "print('Orignal list',work)\n",
    "work.insert(2,'soft dev')\n",
    "print('Updated_List', work)"
   ]
  },
  {
   "cell_type": "code",
   "execution_count": 16,
   "id": "9e96dcf2",
   "metadata": {},
   "outputs": [
    {
     "name": "stdout",
     "output_type": "stream",
     "text": [
      "orignall_list ['Web dev', 'Game dev', 'soft dev', 'AI/ML']\n",
      "Updated list  ['Web dev', 'Game dev', 'soft dev', 'AI/ML', 'HTML', 'CSS', 'JS', 'java', 'j', 'a', 'v', 'a']\n"
     ]
    }
   ],
   "source": [
    "##Extend method :- Extend list by appending elements from the iterable ##\n",
    "game = ['Web dev', 'Game dev', 'soft dev', 'AI/ML'] \n",
    "print('orignall_list',game)\n",
    "game.extend(['HTML','CSS','JS'])\n",
    "game.extend(['java'])\n",
    "game.extend('java')\n",
    "print('Updated list ',game)"
   ]
  },
  {
   "cell_type": "markdown",
   "id": "91c77bd6",
   "metadata": {},
   "source": [
    "# Using + & * in the list"
   ]
  },
  {
   "cell_type": "code",
   "execution_count": 17,
   "id": "b4dcc5d3",
   "metadata": {},
   "outputs": [
    {
     "name": "stdout",
     "output_type": "stream",
     "text": [
      "list 1 [1, 2, 3, 4, 5]\n",
      "list_2 [6, 7, 8, 9, 10]\n",
      "Combined list [1, 2, 3, 4, 5, 6, 7, 8, 9, 10]\n"
     ]
    }
   ],
   "source": [
    "## + operater is used as concantination sighn in list`s ##\n",
    "num_l1 = [1,2,3,4,5]\n",
    "num_l2 = [6,7,8,9,10]\n",
    "new_list = num_l1 + num_l2\n",
    "print('list 1', num_l1)\n",
    "print('list_2',num_l2)\n",
    "print('Combined list', new_list)\n"
   ]
  },
  {
   "cell_type": "code",
   "execution_count": 18,
   "id": "2b9745f4",
   "metadata": {},
   "outputs": [
    {
     "name": "stdout",
     "output_type": "stream",
     "text": [
      "list 1 [1, 2, 3, 4, 5, 6, 7, 8, 9, 10]\n",
      "list_2 [6, 7, 8, 9, 10]\n"
     ]
    }
   ],
   "source": [
    "num_l1 = [1,2,3,4,5]\n",
    "num_l2 = [6,7,8,9,10]\n",
    "num_l1.extend(num_l2)\n",
    "print('list 1', num_l1)\n",
    "print('list_2',num_l2)\n",
    "\n"
   ]
  },
  {
   "cell_type": "code",
   "execution_count": 19,
   "id": "5a92987c",
   "metadata": {},
   "outputs": [
    {
     "name": "stdout",
     "output_type": "stream",
     "text": [
      "['python', 'python', 'python']\n"
     ]
    }
   ],
   "source": [
    "## Using * operaters on list\n",
    "s_l = ['python']*3\n",
    "print(s_l)"
   ]
  },
  {
   "cell_type": "code",
   "execution_count": 20,
   "id": "f4c68f8c",
   "metadata": {},
   "outputs": [
    {
     "name": "stdout",
     "output_type": "stream",
     "text": [
      "['PhythonPhythonPhython']\n"
     ]
    }
   ],
   "source": [
    "s_2 = ['Phython'*3]\n",
    "print(s_2)"
   ]
  },
  {
   "cell_type": "markdown",
   "id": "53415096",
   "metadata": {},
   "source": [
    "# Using list methods to delete items # "
   ]
  },
  {
   "cell_type": "code",
   "execution_count": 21,
   "id": "b68dfe55",
   "metadata": {},
   "outputs": [
    {
     "name": "stdout",
     "output_type": "stream",
     "text": [
      "Orignall-list ['Web dev', 'Game dev', 'soft dev', 'AI/ML']\n",
      "Updated_list ['Game dev', 'soft dev', 'AI/ML']\n"
     ]
    }
   ],
   "source": [
    "## Remove Method :- Remove first occurrence of value.##\n",
    "game = ['Web dev', 'Game dev', 'soft dev', 'AI/ML']\n",
    "print('Orignall-list',game)\n",
    "game.remove('Web dev')\n",
    "print('Updated_list', game)"
   ]
  },
  {
   "cell_type": "code",
   "execution_count": null,
   "id": "c15e2e09",
   "metadata": {},
   "outputs": [],
   "source": []
  }
 ],
 "metadata": {
  "kernelspec": {
   "display_name": "Python 3",
   "language": "python",
   "name": "python3"
  },
  "language_info": {
   "codemirror_mode": {
    "name": "ipython",
    "version": 3
   },
   "file_extension": ".py",
   "mimetype": "text/x-python",
   "name": "python",
   "nbconvert_exporter": "python",
   "pygments_lexer": "ipython3",
   "version": "3.8.3"
  }
 },
 "nbformat": 4,
 "nbformat_minor": 5
}
