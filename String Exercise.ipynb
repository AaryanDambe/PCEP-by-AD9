{
 "cells": [
  {
   "cell_type": "markdown",
   "id": "669beaff",
   "metadata": {},
   "source": [
    "1. Write a program to capitalize the 1st and last character of a given name\n",
    "\n",
    "    Sample String : `Prakash Sakari`\n",
    "\n",
    "    Expected Output : `Prakash sakarI`"
   ]
  },
  {
   "cell_type": "code",
   "execution_count": 7,
   "id": "2a080c6a",
   "metadata": {},
   "outputs": [
    {
     "name": "stdout",
     "output_type": "stream",
     "text": [
      "Prakash sakarI\n"
     ]
    }
   ],
   "source": [
    "#Enter your code here\n",
    "my_string = 'Prakash Sakari'\n",
    "first_char = my_string[0:-1].capitalize()\n",
    "last_char = my_string[-1].upper()\n",
    "print(first_char+last_char)"
   ]
  },
  {
   "cell_type": "markdown",
   "id": "4922a247",
   "metadata": {},
   "source": [
    "2. Write Program to replace space with | in a given sentence\n",
    "\n",
    "    Sample String : `My name is Prakash`\n",
    "    \n",
    "    Expected Output : `My|name|is|Prakash`"
   ]
  },
  {
   "cell_type": "code",
   "execution_count": 2,
   "id": "4e07b027",
   "metadata": {},
   "outputs": [
    {
     "name": "stdout",
     "output_type": "stream",
     "text": [
      "My|name|is|Prakash\n"
     ]
    }
   ],
   "source": [
    "#Enter your code here\n",
    "string = 'My name is Prakash'\n",
    "new_string = string.replace(' ', '|')\n",
    "print(new_string)"
   ]
  },
  {
   "cell_type": "markdown",
   "id": "1ae7950c",
   "metadata": {},
   "source": [
    "\n",
    "3. Write a program to print the reverse of a string\n",
    "\n",
    "    Sample String : `Hello World`\n",
    "    \n",
    "    Expected Output : `dlroW olleH`"
   ]
  },
  {
   "cell_type": "code",
   "execution_count": 13,
   "id": "ab42a16a",
   "metadata": {},
   "outputs": [
    {
     "name": "stdout",
     "output_type": "stream",
     "text": [
      "dlroW olleH\n"
     ]
    }
   ],
   "source": [
    "#Enter your code here\n",
    "string = 'Hello World'\n",
    "new_string = string[::-1]\n",
    "print(new_string)"
   ]
  },
  {
   "cell_type": "markdown",
   "id": "4e1a138b",
   "metadata": {},
   "source": [
    "4. Given a string of odd length greater than 7 return a new string made of the middle three characters of a given String\n",
    "\n",
    "    Sample String : `Prakash`\n",
    "    \n",
    "    Expected Output : `aka`"
   ]
  },
  {
   "cell_type": "code",
   "execution_count": 13,
   "id": "136a6e7e",
   "metadata": {},
   "outputs": [
    {
     "name": "stdout",
     "output_type": "stream",
     "text": [
      "Original String is PrakashSakari\n",
      "Middle three chars are shS\n"
     ]
    }
   ],
   "source": [
    "#Enter your code here\n",
    "string = 'PrakashSakari'\n",
    "middle_index = int(len(string) /2)\n",
    "print(\"Original String is\", string)\n",
    "middle_three = string[middle_index-1:middle_index+2]\n",
    "print(\"Middle three chars are\", middle_three)"
   ]
  },
  {
   "cell_type": "code",
   "execution_count": 14,
   "id": "1077f4b4",
   "metadata": {},
   "outputs": [
    {
     "name": "stdout",
     "output_type": "stream",
     "text": [
      "aka\n"
     ]
    }
   ],
   "source": [
    "string = 'PrakashSakari'\n",
    "print(string[2:5])"
   ]
  },
  {
   "cell_type": "markdown",
   "id": "7aee98e9",
   "metadata": {},
   "source": [
    "5. Given two strings, s1 and s2, create a new string by appending s2 in the middle of s1\n",
    "\n",
    "    s1 : `Prakash`\n",
    "    \n",
    "    s2 : `Sakari`\n",
    "    \n",
    "    Expected Ouput : `PraSakarikash`"
   ]
  },
  {
   "cell_type": "code",
   "execution_count": 2,
   "id": "1cb64cee",
   "metadata": {},
   "outputs": [
    {
     "name": "stdout",
     "output_type": "stream",
     "text": [
      "Original Strings are Prakash Sakari\n",
      "After appending new string in middle PraSakarikash\n"
     ]
    }
   ],
   "source": [
    "#Enter your code here\n",
    "s1 = 'Prakash'\n",
    "s2 = 'Sakari'\n",
    "middle_index = int(len(s1) /2)\n",
    "print(\"Original Strings are\", s1, s2)\n",
    "middleThree = s1[:middle_index]+ s2 +s1[middle_index:]\n",
    "print(\"After appending new string in middle\", middleThree)"
   ]
  },
  {
   "cell_type": "markdown",
   "id": "cc039a84",
   "metadata": {},
   "source": [
    "6. Given two strings, s1, and s2 return a new string made of the first, middle, and last characters each input string\n",
    "\n",
    "    s1 : `Prakash`\n",
    "    \n",
    "    s2 : `Sakari`\n",
    "    \n",
    "    Expected Ouput : `PSkahi`"
   ]
  },
  {
   "cell_type": "code",
   "execution_count": 18,
   "id": "e88f3aa7",
   "metadata": {},
   "outputs": [
    {
     "name": "stdout",
     "output_type": "stream",
     "text": [
      "Mix String is  PSkahi\n"
     ]
    }
   ],
   "source": [
    "# Enter your code here\n",
    "s1 = 'Prakash'\n",
    "s2 = 'Sakari'\n",
    "first_char = s1[0] + s2[0]\n",
    "# middle_char = s1[int(len(s1) / 2):int(len(s1) / 2) + 1] + s2[int(len(s2) / 2):int(len(s2) / 2) + 1]\n",
    "middle_char = s1[int(len(s1)/2)] + s2[int(len(s2)/2)]\n",
    "# last_char = s1[len(s1) - 1] + s2[len(s2) - 1]\n",
    "last_char = s1[-1] + s2[-1]\n",
    "res = first_char + middle_char + last_char\n",
    "print(\"Mix String is \", res)"
   ]
  },
  {
   "cell_type": "markdown",
   "id": "9a34801e",
   "metadata": {},
   "source": [
    "7. Find all occurrences of “Python” in a given string ignoring the case\n",
    "\n",
    "    Sample String : `Python is a High Level Programming Language, python uses an interpreter. Python is a dynamically typed language`\n",
    "    \n",
    "    Expected Output : `3`"
   ]
  },
  {
   "cell_type": "code",
   "execution_count": 24,
   "id": "d8a8ecf3",
   "metadata": {},
   "outputs": [
    {
     "name": "stdout",
     "output_type": "stream",
     "text": [
      "The Python count is: 3\n"
     ]
    }
   ],
   "source": [
    "# Enter your code here\n",
    "string = \"Python is a High Level Programming Language, python uses an interpreter. Python is a dynamically typed language\"\n",
    "substring = \"python\"\n",
    "temp_string = string.lower()\n",
    "count = temp_string.count(substring)\n",
    "print(\"The Python count is:\", count)"
   ]
  },
  {
   "cell_type": "markdown",
   "id": "6ae1d82a",
   "metadata": {},
   "source": [
    "8. Print first and last name in reverse order with a space between them\n",
    "    \n",
    "    first_name : `Prakash`\n",
    "    \n",
    "    last_name : `Sakari`\n",
    "    \n",
    "    Expected Output : `hsakarP irakaS`"
   ]
  },
  {
   "cell_type": "code",
   "execution_count": 25,
   "id": "0a190385",
   "metadata": {},
   "outputs": [
    {
     "name": "stdout",
     "output_type": "stream",
     "text": [
      "irakaS hsakarP\n"
     ]
    }
   ],
   "source": [
    "# Enter your code here\n",
    "fn = 'Prakash'\n",
    "ln = 'Sakari'\n",
    "name = fn + ' ' + ln #Prakash Sakari\n",
    "name = name[::-1]\n",
    "print(name)"
   ]
  }
 ],
 "metadata": {
  "kernelspec": {
   "display_name": "Python 3",
   "language": "python",
   "name": "python3"
  },
  "language_info": {
   "codemirror_mode": {
    "name": "ipython",
    "version": 3
   },
   "file_extension": ".py",
   "mimetype": "text/x-python",
   "name": "python",
   "nbconvert_exporter": "python",
   "pygments_lexer": "ipython3",
   "version": "3.8.3"
  }
 },
 "nbformat": 4,
 "nbformat_minor": 5
}
