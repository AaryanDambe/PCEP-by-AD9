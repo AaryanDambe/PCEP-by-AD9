{
 "cells": [
  {
   "cell_type": "markdown",
   "id": "36946a46",
   "metadata": {},
   "source": [
    "1. Write a python program to interchange first and last elements in a list\n",
    "    \n",
    "      Sample List: `[AI/ML, Game Dev, Soft. Dev, Web Dev]`\n",
    "      \n",
    "      Expected Output: `[Web Dev, Game Dev, Soft. Dev, AI/ML]`"
   ]
  },
  {
   "cell_type": "code",
   "execution_count": 1,
   "id": "c26fef74",
   "metadata": {},
   "outputs": [
    {
     "name": "stdout",
     "output_type": "stream",
     "text": [
      "Orignal list is over here ['AI/ML', 'Game Dev', 'Soft Dev', 'Web Dev']\n",
      "Updated list is over here ['Web Dev', 'Game Dev', 'Soft Dev', 'AI/ML']\n"
     ]
    }
   ],
   "source": [
    "# Enter your code here\n",
    "Simp = ['AI/ML','Game Dev','Soft Dev','Web Dev']\n",
    "Simp1 = ['AI/ML','Game Dev','Soft Dev','Web Dev']\n",
    "print(f'Orignal list is over here {Simp}')\n",
    "Simp[0]=Simp[-1] \n",
    "Simp[-1]= Simp1[0]\n",
    "print(f'Updated list is over here {Simp}')"
   ]
  },
  {
   "cell_type": "markdown",
   "id": "3ce81c8d",
   "metadata": {},
   "source": [
    "2. Write a Python program to add all the items in the list\n",
    "\n",
    "      Sample List: `[1, 2, 3, 4, 5, 6, 7]`\n",
    "      \n",
    "      Expected Output: Sum of the items list = `28`"
   ]
  },
  {
   "cell_type": "code",
   "execution_count": 8,
   "id": "428581ae",
   "metadata": {},
   "outputs": [
    {
     "name": "stdout",
     "output_type": "stream",
     "text": [
      "28\n"
     ]
    }
   ],
   "source": [
    "# Enter your code here\n",
    "s_s = [1,2,3,4,5,6,7]\n",
    "s_s = s_s[0]+s_s[1]+s_s[2]+s_s[3]+s_s[4]+s_s[5]+s_s[6]\n",
    "print(s_s)\n"
   ]
  },
  {
   "cell_type": "markdown",
   "id": "c87e9a57",
   "metadata": {},
   "source": [
    "3. Write a python program to find the average of the list\n",
    "    \n",
    "    Sample List: `[1, 2, 3, 4, 5, 6, 7]`\n",
    "    \n",
    "    Expected Output: `4`"
   ]
  },
  {
   "cell_type": "code",
   "execution_count": 14,
   "id": "6ad97a61",
   "metadata": {},
   "outputs": [
    {
     "name": "stdout",
     "output_type": "stream",
     "text": [
      "4.0\n"
     ]
    }
   ],
   "source": [
    "# Enter your code here\n",
    "s_s = [1,2,3,4,5,6,7]\n",
    "a = len(s_s)\n",
    "s_s = s_s[0]+s_s[1]+s_s[2]+s_s[3]+s_s[4]+s_s[5]+s_s[6] \n",
    "s_s = s_s/a\n",
    "print(s_s)"
   ]
  },
  {
   "cell_type": "markdown",
   "id": "820950e3",
   "metadata": {},
   "source": [
    "4. Write a python program to multiply all numbers in list\n",
    "    \n",
    "    Sample List: `[1, 2, 3, 4]`\n",
    "    \n",
    "    Expected Output: `24`"
   ]
  },
  {
   "cell_type": "code",
   "execution_count": 19,
   "id": "3062911d",
   "metadata": {},
   "outputs": [
    {
     "name": "stdout",
     "output_type": "stream",
     "text": [
      "24\n"
     ]
    }
   ],
   "source": [
    "# Enter your code here\n",
    "s_s = [1,2,3,4]\n",
    "s_s = s_s[0]*s_s[1]*s_s[2]*s_s[3]\n",
    "print(s_s)\n"
   ]
  },
  {
   "cell_type": "markdown",
   "id": "adb7f595",
   "metadata": {},
   "source": [
    "5. Write a python program to print even numbers\n",
    "\n",
    "    Sample List: `[1, 2, 3, 4, 5, 6, 7, 8, 9]`\n",
    "    \n",
    "    Expected Output: `2, 4, 6, 8 are even numbers`"
   ]
  },
  {
   "cell_type": "code",
   "execution_count": null,
   "id": "d12ebab5",
   "metadata": {},
   "outputs": [],
   "source": [
    "# Enter your code here"
   ]
  },
  {
   "cell_type": "markdown",
   "id": "108add5a",
   "metadata": {},
   "source": [
    "6. Write a python program to add all even numbers and odd numbers to a list\n",
    "    \n",
    "    Sample List: `[1, 2, 3, 4, 5, 6, 7, 8, 9]`\n",
    "    \n",
    "    Expected Output\n",
    "    \n",
    "    Even Num List: `[2, 4, 6, 8]`\n",
    "    \n",
    "    Odd Num List: `[1, 3, 5, 7, 9]`"
   ]
  },
  {
   "cell_type": "code",
   "execution_count": null,
   "id": "e211f2bc",
   "metadata": {},
   "outputs": [],
   "source": [
    "# Enter your code here"
   ]
  },
  {
   "cell_type": "markdown",
   "id": "1fa46531",
   "metadata": {},
   "source": [
    "7. Write a python program to print odd numbers\n",
    "\n",
    "    Sample List: `[1, 2, 3, 4, 5, 6, 7, 8, 9]`\n",
    "    \n",
    "    Expected Output: `1, 3, 5, 7, 9 are odd numbers`"
   ]
  },
  {
   "cell_type": "code",
   "execution_count": null,
   "id": "8dc19c38",
   "metadata": {},
   "outputs": [],
   "source": [
    "# Enter your code here"
   ]
  },
  {
   "cell_type": "markdown",
   "id": "974aa765",
   "metadata": {},
   "source": [
    "8. Python program to add all positive numbers in a new list\n",
    "\n",
    "    Sample List: `[1, -2, 3, 4, -5, 6, 7, -8, 9]`\n",
    "    \n",
    "    Expected Output: `[1, 3, 4, 6, 7, 9]`"
   ]
  },
  {
   "cell_type": "code",
   "execution_count": 22,
   "id": "ff6b2724",
   "metadata": {},
   "outputs": [
    {
     "ename": "TypeError",
     "evalue": "bad operand type for unary +: 'type'",
     "output_type": "error",
     "traceback": [
      "\u001b[1;31m---------------------------------------------------------------------------\u001b[0m",
      "\u001b[1;31mTypeError\u001b[0m                                 Traceback (most recent call last)",
      "\u001b[1;32m<ipython-input-22-93f23c4fa39f>\u001b[0m in \u001b[0;36m<module>\u001b[1;34m\u001b[0m\n\u001b[0;32m      2\u001b[0m \u001b[0mSimp\u001b[0m \u001b[1;33m=\u001b[0m \u001b[1;33m[\u001b[0m\u001b[1;36m1\u001b[0m\u001b[1;33m,\u001b[0m\u001b[1;33m-\u001b[0m\u001b[1;36m2\u001b[0m\u001b[1;33m,\u001b[0m\u001b[1;36m3\u001b[0m\u001b[1;33m,\u001b[0m\u001b[1;36m4\u001b[0m\u001b[1;33m,\u001b[0m\u001b[1;33m-\u001b[0m\u001b[1;36m5\u001b[0m\u001b[1;33m,\u001b[0m\u001b[1;36m6\u001b[0m\u001b[1;33m,\u001b[0m\u001b[1;36m7\u001b[0m\u001b[1;33m,\u001b[0m\u001b[1;33m-\u001b[0m\u001b[1;36m8\u001b[0m\u001b[1;33m,\u001b[0m\u001b[1;36m9\u001b[0m\u001b[1;33m]\u001b[0m\u001b[1;33m\u001b[0m\u001b[1;33m\u001b[0m\u001b[0m\n\u001b[0;32m      3\u001b[0m \u001b[1;32mfor\u001b[0m \u001b[0mitem\u001b[0m \u001b[1;32min\u001b[0m \u001b[0mSimp\u001b[0m \u001b[1;33m:\u001b[0m\u001b[1;33m\u001b[0m\u001b[1;33m\u001b[0m\u001b[0m\n\u001b[1;32m----> 4\u001b[1;33m     \u001b[1;32mif\u001b[0m \u001b[0mitem\u001b[0m \u001b[1;33m==\u001b[0m \u001b[1;33m+\u001b[0m\u001b[0mint\u001b[0m\u001b[1;33m:\u001b[0m\u001b[1;33m\u001b[0m\u001b[1;33m\u001b[0m\u001b[0m\n\u001b[0m\u001b[0;32m      5\u001b[0m         \u001b[0mprint\u001b[0m\u001b[1;33m(\u001b[0m\u001b[0mitem\u001b[0m\u001b[1;33m)\u001b[0m\u001b[1;33m\u001b[0m\u001b[1;33m\u001b[0m\u001b[0m\n",
      "\u001b[1;31mTypeError\u001b[0m: bad operand type for unary +: 'type'"
     ]
    }
   ],
   "source": [
    "# Enter your code here\n",
    "Simp = [1,-2,3,4,-5,6,7,-8,9]\n",
    "for item in Simp :\n",
    "    if item == +int:\n",
    "        print(item)"
   ]
  }
 ],
 "metadata": {
  "kernelspec": {
   "display_name": "Python 3",
   "language": "python",
   "name": "python3"
  },
  "language_info": {
   "codemirror_mode": {
    "name": "ipython",
    "version": 3
   },
   "file_extension": ".py",
   "mimetype": "text/x-python",
   "name": "python",
   "nbconvert_exporter": "python",
   "pygments_lexer": "ipython3",
   "version": "3.8.3"
  }
 },
 "nbformat": 4,
 "nbformat_minor": 5
}
