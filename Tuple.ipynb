{
 "cells": [
  {
   "cell_type": "markdown",
   "id": "9ed508ca",
   "metadata": {},
   "source": [
    "# Access items from a tuple us index "
   ]
  },
  {
   "cell_type": "code",
   "execution_count": 1,
   "id": "48269556",
   "metadata": {},
   "outputs": [
    {
     "name": "stdout",
     "output_type": "stream",
     "text": [
      "Item at index 0 is Game Dev\n",
      "Item at index -1 is AI/ML\n"
     ]
    }
   ],
   "source": [
    "can = ('Game Dev','Web dev','Soft dev','AI/ML')\n",
    "print(f'Item at index 0 is {can[0]}')\n",
    "print(f'Item at index -1 is {can[-1]}')"
   ]
  },
  {
   "cell_type": "markdown",
   "id": "52b8fa66",
   "metadata": {},
   "source": [
    "# Slicing a tuple\n"
   ]
  },
  {
   "cell_type": "code",
   "execution_count": 2,
   "id": "6e9644c8",
   "metadata": {},
   "outputs": [
    {
     "name": "stdout",
     "output_type": "stream",
     "text": [
      "item from index 1 to -2 is equal to ('Web Dev', 'Soft Dev', 'AI/ML', 'Java', 'JS')\n",
      "reversed Tuple ('CSS', 'HTML', 'JS', 'Java', 'AI/ML', 'Soft Dev', 'Web Dev', 'Game Dev')\n",
      "Items from 5 to the start is ('JS', 'Java', 'AI/ML', 'Soft Dev', 'Web Dev', 'Game Dev')\n",
      "all item with step 2 ('Game Dev', 'Soft Dev', 'Java', 'HTML')\n",
      "Reversed items with step of 2 ('CSS', 'JS', 'AI/ML', 'Web Dev')\n"
     ]
    }
   ],
   "source": [
    "can = ('Game Dev', 'Web Dev', 'Soft Dev', 'AI/ML', 'Java', 'JS', 'HTML', 'CSS')\n",
    "print(f'item from index 1 to -2 is equal to {can[1:-2]}')\n",
    "print(f'reversed Tuple {can[::-1]}')\n",
    "print(f'Items from 5 to the start is {can[5::-1]}')\n",
    "print(f'all item with step 2 {can[::2]}')\n",
    "print(f'Reversed items with step of 2 {can[::-2]}')"
   ]
  },
  {
   "cell_type": "markdown",
   "id": "0f9ea20d",
   "metadata": {},
   "source": [
    "# Immutability :- Tuple is immutable object because we cannot change any item of the tuple by using any method or by it`s index  "
   ]
  },
  {
   "cell_type": "code",
   "execution_count": 3,
   "id": "df0dfc46",
   "metadata": {},
   "outputs": [
    {
     "name": "stdout",
     "output_type": "stream",
     "text": [
      "[1, 2, 3, 4, 5, 6, 7, 8, 9, 10]\n"
     ]
    }
   ],
   "source": [
    "num = [1.8,2,3,4,5,6,7,8,9,10]\n",
    "num[0]=1\n",
    "print(num)"
   ]
  },
  {
   "cell_type": "code",
   "execution_count": 4,
   "id": "b7d8e067",
   "metadata": {},
   "outputs": [
    {
     "ename": "TypeError",
     "evalue": "'tuple' object does not support item assignment",
     "output_type": "error",
     "traceback": [
      "\u001b[1;31m---------------------------------------------------------------------------\u001b[0m",
      "\u001b[1;31mTypeError\u001b[0m                                 Traceback (most recent call last)",
      "\u001b[1;32m<ipython-input-4-a4d07440f7bb>\u001b[0m in \u001b[0;36m<module>\u001b[1;34m\u001b[0m\n\u001b[0;32m      1\u001b[0m \u001b[0mnum\u001b[0m \u001b[1;33m=\u001b[0m \u001b[1;33m(\u001b[0m\u001b[1;36m1.8\u001b[0m\u001b[1;33m,\u001b[0m\u001b[1;36m2\u001b[0m\u001b[1;33m,\u001b[0m\u001b[1;36m3\u001b[0m\u001b[1;33m,\u001b[0m\u001b[1;36m4\u001b[0m\u001b[1;33m,\u001b[0m\u001b[1;36m5\u001b[0m\u001b[1;33m,\u001b[0m\u001b[1;36m6\u001b[0m\u001b[1;33m,\u001b[0m\u001b[1;36m7\u001b[0m\u001b[1;33m,\u001b[0m\u001b[1;36m8\u001b[0m\u001b[1;33m,\u001b[0m\u001b[1;36m9\u001b[0m\u001b[1;33m,\u001b[0m\u001b[1;36m10\u001b[0m\u001b[1;33m)\u001b[0m\u001b[1;33m\u001b[0m\u001b[1;33m\u001b[0m\u001b[0m\n\u001b[1;32m----> 2\u001b[1;33m \u001b[0mnum\u001b[0m\u001b[1;33m[\u001b[0m\u001b[1;36m0\u001b[0m\u001b[1;33m]\u001b[0m\u001b[1;33m=\u001b[0m\u001b[1;36m1\u001b[0m\u001b[1;33m\u001b[0m\u001b[1;33m\u001b[0m\u001b[0m\n\u001b[0m\u001b[0;32m      3\u001b[0m \u001b[0mprint\u001b[0m\u001b[1;33m(\u001b[0m\u001b[0mnum\u001b[0m\u001b[1;33m)\u001b[0m\u001b[1;33m\u001b[0m\u001b[1;33m\u001b[0m\u001b[0m\n",
      "\u001b[1;31mTypeError\u001b[0m: 'tuple' object does not support item assignment"
     ]
    }
   ],
   "source": [
    "num = (1.8,2,3,4,5,6,7,8,9,10)\n",
    "num[0]=1\n",
    "print(num)"
   ]
  },
  {
   "cell_type": "markdown",
   "id": "0afe4659",
   "metadata": {},
   "source": [
    "# Unpacking a tuple"
   ]
  },
  {
   "cell_type": "code",
   "execution_count": 11,
   "id": "ad26af6f",
   "metadata": {},
   "outputs": [
    {
     "name": "stdout",
     "output_type": "stream",
     "text": [
      "Orignal Tuple : ('Tesla', 2020, 'Red', '$200,000')\n",
      "\n",
      "Tesla\n",
      "2020\n",
      "Red\n",
      "$200,000\n"
     ]
    }
   ],
   "source": [
    "car_detail = ('Tesla',2020,'Red','$200,000')\n",
    "car_name,year,colour,Price = car_detail\n",
    "print(f'Orignal Tuple : {car_detail}')\n",
    "print()\n",
    "print(car_name)\n",
    "print(year)\n",
    "print(colour)\n",
    "print(Price)"
   ]
  },
  {
   "cell_type": "code",
   "execution_count": 13,
   "id": "598f3240",
   "metadata": {},
   "outputs": [
    {
     "name": "stdout",
     "output_type": "stream",
     "text": [
      "Engineer\n",
      "HTML/CSS\n"
     ]
    }
   ],
   "source": [
    "DAta = 'Aaryan',27,'Data Scientist','Engineer',['Phython','JS', 'HTML/CSS','AI']\n",
    "name,age,prof_1,prof_2,prog_lang = DAta\n",
    "print(prof_2)\n",
    "print(prog_lang[2])"
   ]
  },
  {
   "cell_type": "markdown",
   "id": "36453e3d",
   "metadata": {},
   "source": [
    "# Methods of Tuple "
   ]
  },
  {
   "cell_type": "code",
   "execution_count": 16,
   "id": "f02a1303",
   "metadata": {},
   "outputs": [
    {
     "name": "stdout",
     "output_type": "stream",
     "text": [
      "2\n"
     ]
    }
   ],
   "source": [
    "## Count method --> Return number of occurness of the value in the tuple ##\n",
    "can = ('Game Dev', 'Web Dev','JS', 'Soft Dev', 'AI/ML', 'Java', 'JS', 'HTML', 'CSS')\n",
    "count = can.count('JS')\n",
    "print(count)"
   ]
  },
  {
   "cell_type": "code",
   "execution_count": 17,
   "id": "e2ed4c22",
   "metadata": {},
   "outputs": [
    {
     "name": "stdout",
     "output_type": "stream",
     "text": [
      "2\n"
     ]
    }
   ],
   "source": [
    "you = (1,2,3,4,3,4,5,6,7,8,9)\n",
    "count = you.count(3)\n",
    "print(count)"
   ]
  },
  {
   "cell_type": "code",
   "execution_count": 18,
   "id": "04bd632b",
   "metadata": {},
   "outputs": [
    {
     "name": "stdout",
     "output_type": "stream",
     "text": [
      "3\n"
     ]
    }
   ],
   "source": [
    "## Index Method --> REturns you back with the index of the value in the tuple ##\n",
    "can = can = ('Game Dev', 'Web Dev', 'Soft Dev', 'AI/ML', 'Java', 'JS', 'HTML', 'CSS')\n",
    "index = can.index('AI/ML')\n",
    "print(index)"
   ]
  },
  {
   "cell_type": "code",
   "execution_count": 19,
   "id": "ddefe3bd",
   "metadata": {},
   "outputs": [
    {
     "name": "stdout",
     "output_type": "stream",
     "text": [
      "7\n"
     ]
    }
   ],
   "source": [
    "we = (1,2,3,4,5,8,6,7)\n",
    "index = we.index(7)\n",
    "print(index)"
   ]
  },
  {
   "cell_type": "code",
   "execution_count": 20,
   "id": "7abfbc70",
   "metadata": {},
   "outputs": [
    {
     "name": "stdout",
     "output_type": "stream",
     "text": [
      "8\n"
     ]
    }
   ],
   "source": [
    "can = ('Game Dev', 'Web Dev', 'Soft Dev', 'AI/ML', 'Java', 'JS', 'HTML', 'CSS')\n",
    "yoo = len(can)\n",
    "print(yoo)"
   ]
  },
  {
   "cell_type": "markdown",
   "id": "bbc39bf5",
   "metadata": {},
   "source": [
    "## Using for loop"
   ]
  },
  {
   "cell_type": "code",
   "execution_count": 24,
   "id": "e5144698",
   "metadata": {},
   "outputs": [
    {
     "name": "stdout",
     "output_type": "stream",
     "text": [
      "Game Dev\n",
      "Web Dev\n",
      "Soft Dev\n",
      "AI/ML\n"
     ]
    }
   ],
   "source": [
    "can = ('Game Dev', 'Web Dev', 'Soft Dev', 'AI/ML', 'Java', 'JS', 'HTML', 'CSS')\n",
    "for index in range(0,len(can)-4):\n",
    "    print(can[index])"
   ]
  },
  {
   "cell_type": "code",
   "execution_count": 30,
   "id": "10efa7b3",
   "metadata": {},
   "outputs": [
    {
     "name": "stdout",
     "output_type": "stream",
     "text": [
      "Game Dev\n",
      "Web Dev\n",
      "Soft Dev\n",
      "AI/ML\n"
     ]
    }
   ],
   "source": [
    "can = ('Game Dev', 'Web Dev', 'Soft Dev', 'AI/ML', 'Java', 'JS', 'HTML', 'CSS')\n",
    "for course in can:\n",
    "    if course == 'Java':\n",
    "        break\n",
    "    print(course)"
   ]
  },
  {
   "cell_type": "code",
   "execution_count": 36,
   "id": "e3a89e8a",
   "metadata": {},
   "outputs": [
    {
     "name": "stdout",
     "output_type": "stream",
     "text": [
      "Game Dev\n",
      "web dev\n",
      "Soft Dev\n",
      "AI/ML\n",
      "Java\n",
      "JS\n",
      "HTML\n",
      "CSS\n"
     ]
    }
   ],
   "source": [
    "can = [['Game Dev','web dev'],['Soft Dev','AI/ML'],['Java','JS','HTML','CSS']]\n",
    "print(can[0][0])\n",
    "print(can[0][1])\n",
    "print(can[1][0])\n",
    "print(can[1][1])\n",
    "print(can[2][0])\n",
    "print(can[2][1])\n",
    "print(can[2][2])\n",
    "print(can[2][3])"
   ]
  },
  {
   "cell_type": "code",
   "execution_count": 40,
   "id": "5671feb2",
   "metadata": {},
   "outputs": [
    {
     "name": "stdout",
     "output_type": "stream",
     "text": [
      "Game Dev\n",
      "web dev\n",
      "Soft Dev\n",
      "AI/ML\n",
      "Java\n",
      "JS\n",
      "HTML\n",
      "CSS\n"
     ]
    }
   ],
   "source": [
    "list_1 = can[0]\n",
    "list_2 = can[1]\n",
    "list_3 = can[2]\n",
    "for yo_1 in list_1:\n",
    "    print(yo_1)\n",
    "for yo_2 in list_2:\n",
    "    print(yo_2)\n",
    "for yo_3 in list_3:\n",
    "    print(yo_3)"
   ]
  },
  {
   "cell_type": "code",
   "execution_count": 7,
   "id": "fe084fe8",
   "metadata": {},
   "outputs": [
    {
     "name": "stdout",
     "output_type": "stream",
     "text": [
      "1 is greater\n"
     ]
    }
   ],
   "source": [
    "num =(1,2,5,4,3)\n",
    "hey = num[0]\n",
    "for ney in num:\n",
    "    if hey > ney:\n",
    "        ney=hey\n",
    "print(f'{hey} is greater')\n",
    "     "
   ]
  }
 ],
 "metadata": {
  "kernelspec": {
   "display_name": "Python 3",
   "language": "python",
   "name": "python3"
  },
  "language_info": {
   "codemirror_mode": {
    "name": "ipython",
    "version": 3
   },
   "file_extension": ".py",
   "mimetype": "text/x-python",
   "name": "python",
   "nbconvert_exporter": "python",
   "pygments_lexer": "ipython3",
   "version": "3.8.3"
  }
 },
 "nbformat": 4,
 "nbformat_minor": 5
}
