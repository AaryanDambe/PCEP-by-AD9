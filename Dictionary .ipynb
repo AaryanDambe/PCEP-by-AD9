{
 "cells": [
  {
   "cell_type": "markdown",
   "id": "a70bcece",
   "metadata": {},
   "source": [
    "# Dictionary \n",
    "        It is a collection of Unordered sequence of items \n",
    "        Dictionary is written as a key:value pair within curly brases/bracket '{}'\n",
    "        A value can be accessed only by its key\n",
    "        \n",
    "        key must be any of the following data types :- str , int,float\n",
    "        value can have any data type : str,int,float, list ,tuple ,dict\n",
    "        \n",
    "        Syntax: my_dict = {key : value}\n"
   ]
  },
  {
   "cell_type": "code",
   "execution_count": 1,
   "id": "cf6a1d71",
   "metadata": {},
   "outputs": [
    {
     "name": "stdout",
     "output_type": "stream",
     "text": [
      "{'name': 'Aaryan', 'Age': '14', 'Courses': ['Phython', 'JS']}\n"
     ]
    }
   ],
   "source": [
    "Data = {'name':'Aaryan','Age':'14','Courses':['Phython','JS']}\n",
    "print(Data)"
   ]
  },
  {
   "cell_type": "markdown",
   "id": "db48963a",
   "metadata": {},
   "source": [
    "# Accessing values by keys"
   ]
  },
  {
   "cell_type": "code",
   "execution_count": 35,
   "id": "d9a1f3f5",
   "metadata": {},
   "outputs": [
    {
     "name": "stdout",
     "output_type": "stream",
     "text": [
      "Name :- Aaryan\n",
      "Age:- 14\n",
      "Course = ['Phython', 'JS']\n",
      "Courses_1 =  Phython\n",
      "Courses_2 =  JS\n",
      "Favourite_colour :- Red\n",
      "Favourite_colour2 :- Black\n",
      "Favourite_colour3 :- Brown\n"
     ]
    }
   ],
   "source": [
    "Data = {'name':'Aaryan','Age':'14','Courses':['Phython','JS'],\n",
    "       'Fav_color':{'color_1':'Red','color_2':'Black','color_3':'Brown'}}\n",
    "print('Name :-',Data['name'])\n",
    "print('Age:-' , Data['Age'])\n",
    "print('Course =', Data['Courses'])\n",
    "print('Courses_1 = ',Data['Courses'][0])\n",
    "print('Courses_2 = ',Data['Courses'][1])\n",
    "print('Favourite_colour :-',Data['Fav_color']['color_1'])\n",
    "print('Favourite_colour2 :-',Data['Fav_color']['color_2'])\n",
    "print('Favourite_colour3 :-',Data['Fav_color']['color_3'])"
   ]
  },
  {
   "cell_type": "code",
   "execution_count": 39,
   "id": "0516d897",
   "metadata": {},
   "outputs": [
    {
     "name": "stdout",
     "output_type": "stream",
     "text": [
      "og_dict {1: 'apple', 3.6: 'Mango', '23': 'gauva'}\n",
      "apple\n",
      "Mango\n",
      "gauva\n"
     ]
    }
   ],
   "source": [
    "my_dict = {1:'apple',3.6:'Mango', '23':'gauva'}\n",
    "print('og_dict',my_dict)\n",
    "print(my_dict[1])\n",
    "print(my_dict[3.6])\n",
    "print(my_dict['23'])"
   ]
  },
  {
   "cell_type": "code",
   "execution_count": 40,
   "id": "75428998",
   "metadata": {},
   "outputs": [
    {
     "name": "stdout",
     "output_type": "stream",
     "text": [
      "Help on class dict in module builtins:\n",
      "\n",
      "class dict(object)\n",
      " |  dict() -> new empty dictionary\n",
      " |  dict(mapping) -> new dictionary initialized from a mapping object's\n",
      " |      (key, value) pairs\n",
      " |  dict(iterable) -> new dictionary initialized as if via:\n",
      " |      d = {}\n",
      " |      for k, v in iterable:\n",
      " |          d[k] = v\n",
      " |  dict(**kwargs) -> new dictionary initialized with the name=value pairs\n",
      " |      in the keyword argument list.  For example:  dict(one=1, two=2)\n",
      " |  \n",
      " |  Built-in subclasses:\n",
      " |      StgDict\n",
      " |  \n",
      " |  Methods defined here:\n",
      " |  \n",
      " |  __contains__(self, key, /)\n",
      " |      True if the dictionary has the specified key, else False.\n",
      " |  \n",
      " |  __delitem__(self, key, /)\n",
      " |      Delete self[key].\n",
      " |  \n",
      " |  __eq__(self, value, /)\n",
      " |      Return self==value.\n",
      " |  \n",
      " |  __ge__(self, value, /)\n",
      " |      Return self>=value.\n",
      " |  \n",
      " |  __getattribute__(self, name, /)\n",
      " |      Return getattr(self, name).\n",
      " |  \n",
      " |  __getitem__(...)\n",
      " |      x.__getitem__(y) <==> x[y]\n",
      " |  \n",
      " |  __gt__(self, value, /)\n",
      " |      Return self>value.\n",
      " |  \n",
      " |  __init__(self, /, *args, **kwargs)\n",
      " |      Initialize self.  See help(type(self)) for accurate signature.\n",
      " |  \n",
      " |  __iter__(self, /)\n",
      " |      Implement iter(self).\n",
      " |  \n",
      " |  __le__(self, value, /)\n",
      " |      Return self<=value.\n",
      " |  \n",
      " |  __len__(self, /)\n",
      " |      Return len(self).\n",
      " |  \n",
      " |  __lt__(self, value, /)\n",
      " |      Return self<value.\n",
      " |  \n",
      " |  __ne__(self, value, /)\n",
      " |      Return self!=value.\n",
      " |  \n",
      " |  __repr__(self, /)\n",
      " |      Return repr(self).\n",
      " |  \n",
      " |  __reversed__(self, /)\n",
      " |      Return a reverse iterator over the dict keys.\n",
      " |  \n",
      " |  __setitem__(self, key, value, /)\n",
      " |      Set self[key] to value.\n",
      " |  \n",
      " |  __sizeof__(...)\n",
      " |      D.__sizeof__() -> size of D in memory, in bytes\n",
      " |  \n",
      " |  clear(...)\n",
      " |      D.clear() -> None.  Remove all items from D.\n",
      " |  \n",
      " |  copy(...)\n",
      " |      D.copy() -> a shallow copy of D\n",
      " |  \n",
      " |  get(self, key, default=None, /)\n",
      " |      Return the value for key if key is in the dictionary, else default.\n",
      " |  \n",
      " |  items(...)\n",
      " |      D.items() -> a set-like object providing a view on D's items\n",
      " |  \n",
      " |  keys(...)\n",
      " |      D.keys() -> a set-like object providing a view on D's keys\n",
      " |  \n",
      " |  pop(...)\n",
      " |      D.pop(k[,d]) -> v, remove specified key and return the corresponding value.\n",
      " |      If key is not found, d is returned if given, otherwise KeyError is raised\n",
      " |  \n",
      " |  popitem(self, /)\n",
      " |      Remove and return a (key, value) pair as a 2-tuple.\n",
      " |      \n",
      " |      Pairs are returned in LIFO (last-in, first-out) order.\n",
      " |      Raises KeyError if the dict is empty.\n",
      " |  \n",
      " |  setdefault(self, key, default=None, /)\n",
      " |      Insert key with a value of default if key is not in the dictionary.\n",
      " |      \n",
      " |      Return the value for key if key is in the dictionary, else default.\n",
      " |  \n",
      " |  update(...)\n",
      " |      D.update([E, ]**F) -> None.  Update D from dict/iterable E and F.\n",
      " |      If E is present and has a .keys() method, then does:  for k in E: D[k] = E[k]\n",
      " |      If E is present and lacks a .keys() method, then does:  for k, v in E: D[k] = v\n",
      " |      In either case, this is followed by: for k in F:  D[k] = F[k]\n",
      " |  \n",
      " |  values(...)\n",
      " |      D.values() -> an object providing a view on D's values\n",
      " |  \n",
      " |  ----------------------------------------------------------------------\n",
      " |  Class methods defined here:\n",
      " |  \n",
      " |  fromkeys(iterable, value=None, /) from builtins.type\n",
      " |      Create a new dictionary with keys from iterable and values set to value.\n",
      " |  \n",
      " |  ----------------------------------------------------------------------\n",
      " |  Static methods defined here:\n",
      " |  \n",
      " |  __new__(*args, **kwargs) from builtins.type\n",
      " |      Create and return a new object.  See help(type) for accurate signature.\n",
      " |  \n",
      " |  ----------------------------------------------------------------------\n",
      " |  Data and other attributes defined here:\n",
      " |  \n",
      " |  __hash__ = None\n",
      "\n",
      "None\n"
     ]
    }
   ],
   "source": [
    "print(help(dict))"
   ]
  },
  {
   "cell_type": "code",
   "execution_count": 102,
   "id": "16d5480f",
   "metadata": {},
   "outputs": [
    {
     "name": "stdout",
     "output_type": "stream",
     "text": [
      "Aaryan\n",
      "None\n"
     ]
    }
   ],
   "source": [
    "##get(self, key, default=None, /)\n",
    "##Return the value for key if key is in the dictionary, else default.##\n",
    "Data = {'name':'Aaryan','Age':'14','Courses':['Phython','JS']}\n",
    "print(Data.get('name'))\n",
    "print(Data.get('n'))\n"
   ]
  },
  {
   "cell_type": "code",
   "execution_count": null,
   "id": "529fd117",
   "metadata": {},
   "outputs": [],
   "source": []
  },
  {
   "cell_type": "markdown",
   "id": "c5d94d29",
   "metadata": {},
   "source": [
    "# Adding something in the Dictionary"
   ]
  },
  {
   "cell_type": "code",
   "execution_count": 110,
   "id": "c17e61bc",
   "metadata": {},
   "outputs": [
    {
     "name": "stdout",
     "output_type": "stream",
     "text": [
      "{'name': 'Aaryan', 'Age': '14', 'Courses': ['Phython', 'JS'], 'email': 'aaryandambe22@gmail.com', 'Phone Number': '9833526043'}\n"
     ]
    }
   ],
   "source": [
    "Data = {'name':'Aaryan','Age':'14','Courses':['Phython','JS']}\n",
    "Data['email']='aaryandambe22@gmail.com'\n",
    "Data['Phone Number']='9833526043'\n",
    "print(Data)                                                                                                                                             "
   ]
  },
  {
   "cell_type": "markdown",
   "id": "cb68d162",
   "metadata": {},
   "source": [
    "# Deleting keys in the Dictionary"
   ]
  },
  {
   "cell_type": "code",
   "execution_count": 115,
   "id": "af21b02a",
   "metadata": {},
   "outputs": [
    {
     "name": "stdout",
     "output_type": "stream",
     "text": [
      "Origanal Dictionary {'name': 'Aaryan', 'Age': '14', 'Courses': ['Phython', 'JS'], 'email': 'aaryandambe22@gmail.com', 'Phone Number': '9833526043'}\n",
      "aaryandambe22@gmail.com\n",
      "Updated Dictionary {'name': 'Aaryan', 'Age': '14', 'Courses': ['Phython', 'JS'], 'Phone Number': '9833526043'}\n"
     ]
    }
   ],
   "source": [
    "Data ={'name': 'Aaryan', 'Age': '14', 'Courses': ['Phython', 'JS'], 'email': 'aaryandambe22@gmail.com', 'Phone Number': '9833526043'}\n",
    "print('Origanal Dictionary', Data)\n",
    "deletd= Data.pop('email')\n",
    "print(deletd)\n",
    "print('Updated Dictionary',Data)"
   ]
  },
  {
   "cell_type": "code",
   "execution_count": 119,
   "id": "b28431c9",
   "metadata": {},
   "outputs": [
    {
     "name": "stdout",
     "output_type": "stream",
     "text": [
      "OG Dict {'name': 'Aaryan', 'Age': '14', 'Courses': ['Phython', 'JS'], 'email': 'aaryandambe22@gmail.com', 'Phone Number': '9833526043'}\n",
      "poped item ('Phone Number', '9833526043')\n",
      "Deleted item ('email', 'aaryandambe22@gmail.com')\n",
      "Updated dictionary {'name': 'Aaryan', 'Age': '14', 'Courses': ['Phython', 'JS']}\n"
     ]
    }
   ],
   "source": [
    "Data = {'name': 'Aaryan', 'Age': '14', 'Courses': ['Phython', 'JS'], 'email': 'aaryandambe22@gmail.com', 'Phone Number': '9833526043'}\n",
    "print('OG Dict',Data)\n",
    "pop_item = Data.popitem()\n",
    "dele_item= Data.popitem()\n",
    "print('poped item',pop_item)\n",
    "print('Deleted item',dele_item)\n",
    "print('Updated dictionary',Data)"
   ]
  }
 ],
 "metadata": {
  "kernelspec": {
   "display_name": "Python 3",
   "language": "python",
   "name": "python3"
  },
  "language_info": {
   "codemirror_mode": {
    "name": "ipython",
    "version": 3
   },
   "file_extension": ".py",
   "mimetype": "text/x-python",
   "name": "python",
   "nbconvert_exporter": "python",
   "pygments_lexer": "ipython3",
   "version": "3.8.3"
  }
 },
 "nbformat": 4,
 "nbformat_minor": 5
}
