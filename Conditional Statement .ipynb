{
 "cells": [
  {
   "cell_type": "markdown",
   "id": "7a640620",
   "metadata": {},
   "source": [
    "# Comparison/Conditional operaters\n",
    "1. Equal to --> ==\n",
    "2. Not Equal to --> !=\n",
    "3. Greater than --> >\n",
    "4. Less than --> <\n",
    "5. greater than / equal to --> >=\n",
    "6. less than / equal to --> <=\n"
   ]
  },
  {
   "cell_type": "code",
   "execution_count": 1,
   "id": "b26460f4",
   "metadata": {},
   "outputs": [
    {
     "name": "stdout",
     "output_type": "stream",
     "text": [
      "both the numbers are equal\n"
     ]
    }
   ],
   "source": [
    "x = 3\n",
    "a = 3\n",
    "if a > x:\n",
    "    print('a is greter than x')\n",
    "elif a<x:\n",
    "    print('x is greater than a')\n",
    "else:\n",
    "    print('both the numbers are equal')"
   ]
  },
  {
   "cell_type": "code",
   "execution_count": 2,
   "id": "0b623ce6",
   "metadata": {},
   "outputs": [
    {
     "name": "stdout",
     "output_type": "stream",
     "text": [
      "z is less than y\n",
      "x is less than y\n"
     ]
    }
   ],
   "source": [
    "x = 30\n",
    "y = 4\n",
    "if x>y:\n",
    "    z=2\n",
    "    if z == y:\n",
    "        print('z and y are equal')\n",
    "    elif z<y:\n",
    "        print('z is less than y')\n",
    "        print('x is less than y')\n",
    "    else:\n",
    "        print('condition failed')\n",
    "else:\n",
    "    print('x is less than y')"
   ]
  },
  {
   "cell_type": "code",
   "execution_count": 3,
   "id": "7d46ceb2",
   "metadata": {},
   "outputs": [
    {
     "name": "stdout",
     "output_type": "stream",
     "text": [
      "True\n"
     ]
    }
   ],
   "source": [
    "X=4\n",
    "Y=4\n",
    "if X >= Y:\n",
    "    print(True)\n",
    "else:\n",
    "    print(False)\n"
   ]
  },
  {
   "cell_type": "code",
   "execution_count": 4,
   "id": "686f6f96",
   "metadata": {},
   "outputs": [
    {
     "name": "stdout",
     "output_type": "stream",
     "text": [
      "<class 'bool'>\n"
     ]
    }
   ],
   "source": [
    "x = 4\n",
    "y = 3\n",
    "z = x >= y\n",
    "print(type(z))"
   ]
  },
  {
   "cell_type": "code",
   "execution_count": 5,
   "id": "b9cf4178",
   "metadata": {},
   "outputs": [
    {
     "name": "stdout",
     "output_type": "stream",
     "text": [
      "Enter the name:-dwdw\n",
      "name is in correct format\n"
     ]
    }
   ],
   "source": [
    "## ASCII = American Standered code for Information interchange\n",
    "name = input('Enter the name:-')\n",
    "if name.isalpha()== True:\n",
    "    print('name is in correct format')\n",
    "else:\n",
    "    print('name in correct format')\n",
    "    \n",
    "    "
   ]
  },
  {
   "cell_type": "code",
   "execution_count": null,
   "id": "c9f4583c",
   "metadata": {},
   "outputs": [],
   "source": [
    "age = input('enter the age :-')\n",
    "if age.isnumeric():\n",
    "    print('age is just a number')\n",
    "else:\n",
    "    print('age is not a number')"
   ]
  },
  {
   "cell_type": "markdown",
   "id": "3913fb7b",
   "metadata": {},
   "source": [
    "<h1> (The Result) If condition else (the expersion)</h1>\n",
    "<h1>do this thing if the condition is True else do that thing </h1>"
   ]
  },
  {
   "cell_type": "code",
   "execution_count": null,
   "id": "95d8ec56",
   "metadata": {},
   "outputs": [],
   "source": [
    "x = 456\n",
    "y = 48\n",
    "\n",
    "\n",
    "print(\"y is greater than x\")if y>x else print(\"x is greter than y\") "
   ]
  },
  {
   "cell_type": "markdown",
   "id": "228cda67",
   "metadata": {},
   "source": [
    "<h1> Increment the value of x by 1 if x is less than y else print condition failed </h1>"
   ]
  },
  {
   "cell_type": "code",
   "execution_count": 1,
   "id": "c7e5e0cc",
   "metadata": {},
   "outputs": [
    {
     "name": "stdout",
     "output_type": "stream",
     "text": [
      "value of x is  4\n"
     ]
    }
   ],
   "source": [
    "x = 3 \n",
    "y = 4\n",
    "x = x +1 if x <y else print('condition Failed')\n",
    "print('value of x is ', x)"
   ]
  },
  {
   "cell_type": "code",
   "execution_count": 53,
   "id": "e6e7e4ae",
   "metadata": {},
   "outputs": [],
   "source": [
    "x = 3 \n",
    "y = 4\n",
    "if x < y :\n",
    "    x = x + 1\n",
    "else :\n",
    "    print('condition failed')"
   ]
  },
  {
   "cell_type": "code",
   "execution_count": 54,
   "id": "cb64d81e",
   "metadata": {},
   "outputs": [
    {
     "name": "stdout",
     "output_type": "stream",
     "text": [
      "conditional failed\n",
      "None\n"
     ]
    }
   ],
   "source": [
    "x = 4\n",
    "y = 5\n",
    "x = x +2 if x>y else print('conditional failed')\n",
    "print(x)"
   ]
  },
  {
   "cell_type": "code",
   "execution_count": 57,
   "id": "c0177f71",
   "metadata": {},
   "outputs": [
    {
     "name": "stdout",
     "output_type": "stream",
     "text": [
      "condition failed\n",
      "4\n"
     ]
    }
   ],
   "source": [
    "x =4\n",
    "y = 5\n",
    "if x > y :\n",
    "    x = x + 2\n",
    "else :\n",
    "    print('condition failed')\n",
    "    \n",
    "print(x)"
   ]
  },
  {
   "cell_type": "markdown",
   "id": "500a1d85",
   "metadata": {},
   "source": [
    "<h1>Changing comparism operaters </h1>"
   ]
  },
  {
   "cell_type": "code",
   "execution_count": 58,
   "id": "1b4e26f6",
   "metadata": {},
   "outputs": [
    {
     "name": "stdout",
     "output_type": "stream",
     "text": [
      "True\n"
     ]
    }
   ],
   "source": [
    "x = 4\n",
    "y = 3\n",
    "z =5 \n",
    "if x > y <z:\n",
    "    print(True)\n",
    "else :\n",
    "    print(False)\n",
    "    "
   ]
  },
  {
   "cell_type": "code",
   "execution_count": 59,
   "id": "7373229e",
   "metadata": {},
   "outputs": [
    {
     "name": "stdout",
     "output_type": "stream",
     "text": [
      "True\n"
     ]
    }
   ],
   "source": [
    "x = 'Hello'\n",
    "y = 'Hiii'\n",
    "z = \"Hello\"\n",
    "if x == z != y:\n",
    "    print(True)\n",
    "else:\n",
    "    print(False)\n"
   ]
  }
 ],
 "metadata": {
  "kernelspec": {
   "display_name": "Python 3",
   "language": "python",
   "name": "python3"
  },
  "language_info": {
   "codemirror_mode": {
    "name": "ipython",
    "version": 3
   },
   "file_extension": ".py",
   "mimetype": "text/x-python",
   "name": "python",
   "nbconvert_exporter": "python",
   "pygments_lexer": "ipython3",
   "version": "3.8.3"
  }
 },
 "nbformat": 4,
 "nbformat_minor": 5
}
