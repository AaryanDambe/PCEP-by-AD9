{
 "cells": [
  {
   "cell_type": "markdown",
   "id": "41095cff",
   "metadata": {},
   "source": [
    "End Argument of print\n",
    "<hr>"
   ]
  },
  {
   "cell_type": "code",
   "execution_count": 11,
   "id": "a032e154",
   "metadata": {},
   "outputs": [
    {
     "name": "stdout",
     "output_type": "stream",
     "text": [
      "yooo! lets go!////alright\tnoooo!\n"
     ]
    }
   ],
   "source": [
    "print('yooo! lets go!',end='////')\n",
    "print('alright',end = '\\t')\n",
    "print('noooo!')"
   ]
  },
  {
   "cell_type": "markdown",
   "id": "17511d3f",
   "metadata": {},
   "source": [
    "'\\n'= new line<br>\n",
    "'\\t'= tab<br>\n",
    "'b'= backspace<br>\n",
    "<hr>"
   ]
  },
  {
   "cell_type": "markdown",
   "id": "55a9672f",
   "metadata": {},
   "source": [
    "<h1>sep argument of print</h1>\n",
    "<hr>\n",
    "\n",
    "</hr>"
   ]
  },
  {
   "cell_type": "code",
   "execution_count": 15,
   "id": "4d19af69",
   "metadata": {},
   "outputs": [
    {
     "name": "stdout",
     "output_type": "stream",
     "text": [
      "yo\n",
      "AD9\n",
      "in the house|||bye\n"
     ]
    }
   ],
   "source": [
    "print('yo','AD9','in the house',sep='\\n',end='|||')\n",
    "print('bye')"
   ]
  },
  {
   "cell_type": "markdown",
   "id": "35b44824",
   "metadata": {},
   "source": [
    "<h1><b>Escape character</b></h1>\n",
    "\n",
    "'\\n'= new line<br>\n",
    "'\\t'= tab<br>\n",
    "'b'= backspace<br>\n",
    "<hr>\n"
   ]
  },
  {
   "cell_type": "code",
   "execution_count": 16,
   "id": "d999aeb2",
   "metadata": {},
   "outputs": [
    {
     "name": "stdout",
     "output_type": "stream",
     "text": [
      "yooo! \n",
      " bye \n",
      " tata\n"
     ]
    }
   ],
   "source": [
    "print('yooo! \\n bye \\n tata')"
   ]
  },
  {
   "cell_type": "code",
   "execution_count": 18,
   "id": "0a946075",
   "metadata": {},
   "outputs": [
    {
     "name": "stdout",
     "output_type": "stream",
     "text": [
      "yooo!\b bye\b tata\n"
     ]
    }
   ],
   "source": [
    "print('yooo!\\b bye\\b tata')"
   ]
  },
  {
   "cell_type": "code",
   "execution_count": 19,
   "id": "6729c6d7",
   "metadata": {},
   "outputs": [
    {
     "name": "stdout",
     "output_type": "stream",
     "text": [
      "yooo! \t bye \t tata\n"
     ]
    }
   ],
   "source": [
    "print('yooo! \\t bye \\t tata')"
   ]
  },
  {
   "cell_type": "markdown",
   "id": "59b59cf9",
   "metadata": {},
   "source": [
    "# Apostrophy"
   ]
  },
  {
   "cell_type": "code",
   "execution_count": 21,
   "id": "4c109409",
   "metadata": {},
   "outputs": [
    {
     "name": "stdout",
     "output_type": "stream",
     "text": [
      "ram ratna's international school\n"
     ]
    }
   ],
   "source": [
    "print('ram ratna\\'s international school')"
   ]
  },
  {
   "cell_type": "markdown",
   "id": "9f13fe82",
   "metadata": {},
   "source": [
    "<h1><b>Raw String</b></h1>"
   ]
  },
  {
   "cell_type": "code",
   "execution_count": 20,
   "id": "f0545bc3",
   "metadata": {},
   "outputs": [
    {
     "name": "stdout",
     "output_type": "stream",
     "text": [
      "bye \\n yooo \\n tata\n"
     ]
    }
   ],
   "source": [
    "print(r'bye \\n yooo \\n tata')"
   ]
  }
 ],
 "metadata": {
  "kernelspec": {
   "display_name": "Python 3",
   "language": "python",
   "name": "python3"
  },
  "language_info": {
   "codemirror_mode": {
    "name": "ipython",
    "version": 3
   },
   "file_extension": ".py",
   "mimetype": "text/x-python",
   "name": "python",
   "nbconvert_exporter": "python",
   "pygments_lexer": "ipython3",
   "version": "3.8.3"
  }
 },
 "nbformat": 4,
 "nbformat_minor": 5
}
